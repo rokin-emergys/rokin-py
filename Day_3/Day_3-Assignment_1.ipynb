{
 "cells": [
  {
   "cell_type": "code",
   "execution_count": null,
   "metadata": {},
   "outputs": [],
   "source": [
    "# %pip install numpy pandas matplotlib seaborn"
   ]
  },
  {
   "cell_type": "code",
   "execution_count": 2,
   "metadata": {},
   "outputs": [],
   "source": [
    "import numpy as np\n",
    "import pandas as pd\n",
    "import matplotlib.pyplot as plt\n",
    "import seaborn as sns\n",
    "import time\n"
   ]
  },
  {
   "cell_type": "markdown",
   "metadata": {},
   "source": [
    "#### Write a python script to generate 100 million random numbers and add them all together with and without numpy"
   ]
  },
  {
   "cell_type": "code",
   "execution_count": 3,
   "metadata": {},
   "outputs": [
    {
     "name": "stdout",
     "output_type": "stream",
     "text": [
      "Time taken without NumPy: 20.02 seconds\n",
      "Time taken with NumPy: 0.28 seconds\n"
     ]
    }
   ],
   "source": [
    "n = 100000000\n",
    "\n",
    "# Without NumPy\n",
    "start_time = time.time()\n",
    "total = 0\n",
    "for i in range(n):\n",
    "    total += i\n",
    "end_time = time.time()\n",
    "print(f\"Time taken without NumPy: {end_time - start_time:.2f} seconds\")\n",
    "\n",
    "# With NumPy\n",
    "start_time = time.time()\n",
    "total_np = np.sum(np.arange(n))\n",
    "end_time = time.time()\n",
    "print(f\"Time taken with NumPy: {end_time - start_time:.2f} seconds\")\n"
   ]
  },
  {
   "cell_type": "markdown",
   "metadata": {},
   "source": [
    "#### Q2 Write a python script to generate a 10000x10000 matrix with random values and transpose it."
   ]
  },
  {
   "cell_type": "code",
   "execution_count": 6,
   "metadata": {},
   "outputs": [
    {
     "data": {
      "text/plain": [
       "array([[0.34349798, 0.34745862, 0.10341455, ..., 0.50750783, 0.42345578,\n",
       "        0.62538911],\n",
       "       [0.66369713, 0.1066277 , 0.10728945, ..., 0.22468105, 0.65436849,\n",
       "        0.3518974 ],\n",
       "       [0.89835867, 0.59485413, 0.69901387, ..., 0.27216782, 0.02204701,\n",
       "        0.86285672],\n",
       "       ...,\n",
       "       [0.65123508, 0.12922529, 0.56465359, ..., 0.79142751, 0.44024306,\n",
       "        0.38547821],\n",
       "       [0.7004465 , 0.97715478, 0.23088755, ..., 0.86292418, 0.1449472 ,\n",
       "        0.66177644],\n",
       "       [0.2394486 , 0.22271519, 0.38891571, ..., 0.90944896, 0.49193715,\n",
       "        0.8284068 ]], shape=(10000, 10000))"
      ]
     },
     "execution_count": 6,
     "metadata": {},
     "output_type": "execute_result"
    }
   ],
   "source": [
    "rows, cols = 10000, 10000\n",
    "data = np.random.rand(rows, cols)\n",
    "data"
   ]
  },
  {
   "cell_type": "code",
   "execution_count": 8,
   "metadata": {},
   "outputs": [
    {
     "data": {
      "text/plain": [
       "array([[0.34349798, 0.66369713, 0.89835867, ..., 0.65123508, 0.7004465 ,\n",
       "        0.2394486 ],\n",
       "       [0.34745862, 0.1066277 , 0.59485413, ..., 0.12922529, 0.97715478,\n",
       "        0.22271519],\n",
       "       [0.10341455, 0.10728945, 0.69901387, ..., 0.56465359, 0.23088755,\n",
       "        0.38891571],\n",
       "       ...,\n",
       "       [0.50750783, 0.22468105, 0.27216782, ..., 0.79142751, 0.86292418,\n",
       "        0.90944896],\n",
       "       [0.42345578, 0.65436849, 0.02204701, ..., 0.44024306, 0.1449472 ,\n",
       "        0.49193715],\n",
       "       [0.62538911, 0.3518974 , 0.86285672, ..., 0.38547821, 0.66177644,\n",
       "        0.8284068 ]], shape=(10000, 10000))"
      ]
     },
     "execution_count": 8,
     "metadata": {},
     "output_type": "execute_result"
    }
   ],
   "source": [
    "# transpose\n",
    "t_data = data.T\n",
    "t_data"
   ]
  },
  {
   "cell_type": "code",
   "execution_count": 9,
   "metadata": {},
   "outputs": [
    {
     "data": {
      "text/html": [
       "<div>\n",
       "<style scoped>\n",
       "    .dataframe tbody tr th:only-of-type {\n",
       "        vertical-align: middle;\n",
       "    }\n",
       "\n",
       "    .dataframe tbody tr th {\n",
       "        vertical-align: top;\n",
       "    }\n",
       "\n",
       "    .dataframe thead th {\n",
       "        text-align: right;\n",
       "    }\n",
       "</style>\n",
       "<table border=\"1\" class=\"dataframe\">\n",
       "  <thead>\n",
       "    <tr style=\"text-align: right;\">\n",
       "      <th></th>\n",
       "      <th>Invoice</th>\n",
       "      <th>StockCode</th>\n",
       "      <th>Description</th>\n",
       "      <th>Quantity</th>\n",
       "      <th>InvoiceDate</th>\n",
       "      <th>Price</th>\n",
       "      <th>Customer ID</th>\n",
       "      <th>Country</th>\n",
       "    </tr>\n",
       "  </thead>\n",
       "  <tbody>\n",
       "    <tr>\n",
       "      <th>0</th>\n",
       "      <td>489434</td>\n",
       "      <td>85048</td>\n",
       "      <td>15CM CHRISTMAS GLASS BALL 20 LIGHTS</td>\n",
       "      <td>12</td>\n",
       "      <td>01-12-2009 07:45</td>\n",
       "      <td>6.95</td>\n",
       "      <td>13085.0</td>\n",
       "      <td>United Kingdom</td>\n",
       "    </tr>\n",
       "    <tr>\n",
       "      <th>1</th>\n",
       "      <td>489434</td>\n",
       "      <td>79323P</td>\n",
       "      <td>PINK CHERRY LIGHTS</td>\n",
       "      <td>12</td>\n",
       "      <td>01-12-2009 07:45</td>\n",
       "      <td>6.75</td>\n",
       "      <td>13085.0</td>\n",
       "      <td>United Kingdom</td>\n",
       "    </tr>\n",
       "    <tr>\n",
       "      <th>2</th>\n",
       "      <td>489434</td>\n",
       "      <td>79323W</td>\n",
       "      <td>WHITE CHERRY LIGHTS</td>\n",
       "      <td>12</td>\n",
       "      <td>01-12-2009 07:45</td>\n",
       "      <td>6.75</td>\n",
       "      <td>13085.0</td>\n",
       "      <td>United Kingdom</td>\n",
       "    </tr>\n",
       "    <tr>\n",
       "      <th>3</th>\n",
       "      <td>489434</td>\n",
       "      <td>22041</td>\n",
       "      <td>RECORD FRAME 7\" SINGLE SIZE</td>\n",
       "      <td>48</td>\n",
       "      <td>01-12-2009 07:45</td>\n",
       "      <td>2.10</td>\n",
       "      <td>13085.0</td>\n",
       "      <td>United Kingdom</td>\n",
       "    </tr>\n",
       "    <tr>\n",
       "      <th>4</th>\n",
       "      <td>489434</td>\n",
       "      <td>21232</td>\n",
       "      <td>STRAWBERRY CERAMIC TRINKET BOX</td>\n",
       "      <td>24</td>\n",
       "      <td>01-12-2009 07:45</td>\n",
       "      <td>1.25</td>\n",
       "      <td>13085.0</td>\n",
       "      <td>United Kingdom</td>\n",
       "    </tr>\n",
       "  </tbody>\n",
       "</table>\n",
       "</div>"
      ],
      "text/plain": [
       "  Invoice StockCode                          Description  Quantity  \\\n",
       "0  489434     85048  15CM CHRISTMAS GLASS BALL 20 LIGHTS        12   \n",
       "1  489434    79323P                   PINK CHERRY LIGHTS        12   \n",
       "2  489434    79323W                  WHITE CHERRY LIGHTS        12   \n",
       "3  489434     22041         RECORD FRAME 7\" SINGLE SIZE         48   \n",
       "4  489434     21232       STRAWBERRY CERAMIC TRINKET BOX        24   \n",
       "\n",
       "        InvoiceDate  Price  Customer ID         Country  \n",
       "0  01-12-2009 07:45   6.95      13085.0  United Kingdom  \n",
       "1  01-12-2009 07:45   6.75      13085.0  United Kingdom  \n",
       "2  01-12-2009 07:45   6.75      13085.0  United Kingdom  \n",
       "3  01-12-2009 07:45   2.10      13085.0  United Kingdom  \n",
       "4  01-12-2009 07:45   1.25      13085.0  United Kingdom  "
      ]
     },
     "execution_count": 9,
     "metadata": {},
     "output_type": "execute_result"
    }
   ],
   "source": [
    "online_retail_data = pd.read_csv(\"online_retail.csv\")\n",
    "online_retail_data.head()"
   ]
  },
  {
   "cell_type": "code",
   "execution_count": 10,
   "metadata": {},
   "outputs": [
    {
     "name": "stdout",
     "output_type": "stream",
     "text": [
      "<class 'pandas.core.frame.DataFrame'>\n",
      "RangeIndex: 437885 entries, 0 to 437884\n",
      "Data columns (total 8 columns):\n",
      " #   Column       Non-Null Count   Dtype  \n",
      "---  ------       --------------   -----  \n",
      " 0   Invoice      437885 non-null  object \n",
      " 1   StockCode    437885 non-null  object \n",
      " 2   Description  435162 non-null  object \n",
      " 3   Quantity     437885 non-null  int64  \n",
      " 4   InvoiceDate  437885 non-null  object \n",
      " 5   Price        437885 non-null  float64\n",
      " 6   Customer ID  327110 non-null  float64\n",
      " 7   Country      437885 non-null  object \n",
      "dtypes: float64(2), int64(1), object(5)\n",
      "memory usage: 26.7+ MB\n"
     ]
    }
   ],
   "source": [
    "online_retail_data.info()"
   ]
  },
  {
   "cell_type": "code",
   "execution_count": 11,
   "metadata": {},
   "outputs": [
    {
     "data": {
      "text/html": [
       "<div>\n",
       "<style scoped>\n",
       "    .dataframe tbody tr th:only-of-type {\n",
       "        vertical-align: middle;\n",
       "    }\n",
       "\n",
       "    .dataframe tbody tr th {\n",
       "        vertical-align: top;\n",
       "    }\n",
       "\n",
       "    .dataframe thead th {\n",
       "        text-align: right;\n",
       "    }\n",
       "</style>\n",
       "<table border=\"1\" class=\"dataframe\">\n",
       "  <thead>\n",
       "    <tr style=\"text-align: right;\">\n",
       "      <th></th>\n",
       "      <th>Quantity</th>\n",
       "      <th>Price</th>\n",
       "      <th>Customer ID</th>\n",
       "    </tr>\n",
       "  </thead>\n",
       "  <tbody>\n",
       "    <tr>\n",
       "      <th>count</th>\n",
       "      <td>437885.000000</td>\n",
       "      <td>437885.000000</td>\n",
       "      <td>327110.000000</td>\n",
       "    </tr>\n",
       "    <tr>\n",
       "      <th>mean</th>\n",
       "      <td>10.063069</td>\n",
       "      <td>4.955867</td>\n",
       "      <td>15309.727813</td>\n",
       "    </tr>\n",
       "    <tr>\n",
       "      <th>std</th>\n",
       "      <td>184.048278</td>\n",
       "      <td>128.396016</td>\n",
       "      <td>1697.582041</td>\n",
       "    </tr>\n",
       "    <tr>\n",
       "      <th>min</th>\n",
       "      <td>-74215.000000</td>\n",
       "      <td>-53594.360000</td>\n",
       "      <td>12346.000000</td>\n",
       "    </tr>\n",
       "    <tr>\n",
       "      <th>25%</th>\n",
       "      <td>1.000000</td>\n",
       "      <td>1.250000</td>\n",
       "      <td>13901.000000</td>\n",
       "    </tr>\n",
       "    <tr>\n",
       "      <th>50%</th>\n",
       "      <td>3.000000</td>\n",
       "      <td>2.100000</td>\n",
       "      <td>15215.000000</td>\n",
       "    </tr>\n",
       "    <tr>\n",
       "      <th>75%</th>\n",
       "      <td>10.000000</td>\n",
       "      <td>4.250000</td>\n",
       "      <td>16801.000000</td>\n",
       "    </tr>\n",
       "    <tr>\n",
       "      <th>max</th>\n",
       "      <td>74215.000000</td>\n",
       "      <td>25111.090000</td>\n",
       "      <td>18287.000000</td>\n",
       "    </tr>\n",
       "  </tbody>\n",
       "</table>\n",
       "</div>"
      ],
      "text/plain": [
       "            Quantity          Price    Customer ID\n",
       "count  437885.000000  437885.000000  327110.000000\n",
       "mean       10.063069       4.955867   15309.727813\n",
       "std       184.048278     128.396016    1697.582041\n",
       "min    -74215.000000  -53594.360000   12346.000000\n",
       "25%         1.000000       1.250000   13901.000000\n",
       "50%         3.000000       2.100000   15215.000000\n",
       "75%        10.000000       4.250000   16801.000000\n",
       "max     74215.000000   25111.090000   18287.000000"
      ]
     },
     "execution_count": 11,
     "metadata": {},
     "output_type": "execute_result"
    }
   ],
   "source": [
    "online_retail_data.describe()"
   ]
  },
  {
   "cell_type": "code",
   "execution_count": 12,
   "metadata": {},
   "outputs": [
    {
     "data": {
      "text/plain": [
       "Invoice             0\n",
       "StockCode           0\n",
       "Description      2723\n",
       "Quantity            0\n",
       "InvoiceDate         0\n",
       "Price               0\n",
       "Customer ID    110775\n",
       "Country             0\n",
       "dtype: int64"
      ]
     },
     "execution_count": 12,
     "metadata": {},
     "output_type": "execute_result"
    }
   ],
   "source": [
    "online_retail_data.isnull().sum()"
   ]
  },
  {
   "cell_type": "code",
   "execution_count": 13,
   "metadata": {},
   "outputs": [
    {
     "data": {
      "text/plain": [
       "Invoice             0\n",
       "StockCode           0\n",
       "Description      2723\n",
       "Quantity            0\n",
       "InvoiceDate         0\n",
       "Price               0\n",
       "Customer ID    110775\n",
       "Country             0\n",
       "dtype: int64"
      ]
     },
     "execution_count": 13,
     "metadata": {},
     "output_type": "execute_result"
    }
   ],
   "source": [
    "online_retail_data.isna().sum()"
   ]
  },
  {
   "cell_type": "code",
   "execution_count": 14,
   "metadata": {},
   "outputs": [
    {
     "data": {
      "text/plain": [
       "Invoice        0\n",
       "StockCode      0\n",
       "Description    0\n",
       "Quantity       0\n",
       "InvoiceDate    0\n",
       "Price          0\n",
       "Customer ID    0\n",
       "Country        0\n",
       "dtype: int64"
      ]
     },
     "execution_count": 14,
     "metadata": {},
     "output_type": "execute_result"
    }
   ],
   "source": [
    "online_retail_data.dropna(inplace=True)\n",
    "online_retail_data.isnull().sum()"
   ]
  },
  {
   "cell_type": "code",
   "execution_count": 18,
   "metadata": {},
   "outputs": [
    {
     "data": {
      "text/html": [
       "<div>\n",
       "<style scoped>\n",
       "    .dataframe tbody tr th:only-of-type {\n",
       "        vertical-align: middle;\n",
       "    }\n",
       "\n",
       "    .dataframe tbody tr th {\n",
       "        vertical-align: top;\n",
       "    }\n",
       "\n",
       "    .dataframe thead th {\n",
       "        text-align: right;\n",
       "    }\n",
       "</style>\n",
       "<table border=\"1\" class=\"dataframe\">\n",
       "  <thead>\n",
       "    <tr style=\"text-align: right;\">\n",
       "      <th></th>\n",
       "      <th>Invoice</th>\n",
       "      <th>StockCode</th>\n",
       "      <th>Description</th>\n",
       "      <th>Quantity</th>\n",
       "      <th>Price</th>\n",
       "      <th>Customer ID</th>\n",
       "      <th>Country</th>\n",
       "    </tr>\n",
       "    <tr>\n",
       "      <th>InvoiceDate</th>\n",
       "      <th></th>\n",
       "      <th></th>\n",
       "      <th></th>\n",
       "      <th></th>\n",
       "      <th></th>\n",
       "      <th></th>\n",
       "      <th></th>\n",
       "    </tr>\n",
       "  </thead>\n",
       "  <tbody>\n",
       "    <tr>\n",
       "      <th>2009-12-01 07:45:00</th>\n",
       "      <td>489434</td>\n",
       "      <td>85048</td>\n",
       "      <td>15CM CHRISTMAS GLASS BALL 20 LIGHTS</td>\n",
       "      <td>12</td>\n",
       "      <td>6.95</td>\n",
       "      <td>13085.0</td>\n",
       "      <td>United Kingdom</td>\n",
       "    </tr>\n",
       "    <tr>\n",
       "      <th>2009-12-01 07:45:00</th>\n",
       "      <td>489434</td>\n",
       "      <td>79323P</td>\n",
       "      <td>PINK CHERRY LIGHTS</td>\n",
       "      <td>12</td>\n",
       "      <td>6.75</td>\n",
       "      <td>13085.0</td>\n",
       "      <td>United Kingdom</td>\n",
       "    </tr>\n",
       "    <tr>\n",
       "      <th>2009-12-01 07:45:00</th>\n",
       "      <td>489434</td>\n",
       "      <td>79323W</td>\n",
       "      <td>WHITE CHERRY LIGHTS</td>\n",
       "      <td>12</td>\n",
       "      <td>6.75</td>\n",
       "      <td>13085.0</td>\n",
       "      <td>United Kingdom</td>\n",
       "    </tr>\n",
       "    <tr>\n",
       "      <th>2009-12-01 07:45:00</th>\n",
       "      <td>489434</td>\n",
       "      <td>22041</td>\n",
       "      <td>RECORD FRAME 7\" SINGLE SIZE</td>\n",
       "      <td>48</td>\n",
       "      <td>2.10</td>\n",
       "      <td>13085.0</td>\n",
       "      <td>United Kingdom</td>\n",
       "    </tr>\n",
       "    <tr>\n",
       "      <th>2009-12-01 07:45:00</th>\n",
       "      <td>489434</td>\n",
       "      <td>21232</td>\n",
       "      <td>STRAWBERRY CERAMIC TRINKET BOX</td>\n",
       "      <td>24</td>\n",
       "      <td>1.25</td>\n",
       "      <td>13085.0</td>\n",
       "      <td>United Kingdom</td>\n",
       "    </tr>\n",
       "    <tr>\n",
       "      <th>...</th>\n",
       "      <td>...</td>\n",
       "      <td>...</td>\n",
       "      <td>...</td>\n",
       "      <td>...</td>\n",
       "      <td>...</td>\n",
       "      <td>...</td>\n",
       "      <td>...</td>\n",
       "    </tr>\n",
       "    <tr>\n",
       "      <th>2011-05-12 19:43:00</th>\n",
       "      <td>C553031</td>\n",
       "      <td>22300</td>\n",
       "      <td>COFFEE MUG DOG + BALL DESIGN</td>\n",
       "      <td>-1</td>\n",
       "      <td>2.55</td>\n",
       "      <td>13908.0</td>\n",
       "      <td>United Kingdom</td>\n",
       "    </tr>\n",
       "    <tr>\n",
       "      <th>2011-05-12 19:43:00</th>\n",
       "      <td>C553031</td>\n",
       "      <td>21533</td>\n",
       "      <td>RETROSPOT LARGE MILK JUG</td>\n",
       "      <td>-3</td>\n",
       "      <td>4.95</td>\n",
       "      <td>13908.0</td>\n",
       "      <td>United Kingdom</td>\n",
       "    </tr>\n",
       "    <tr>\n",
       "      <th>2011-05-12 19:43:00</th>\n",
       "      <td>C553031</td>\n",
       "      <td>21240</td>\n",
       "      <td>BLUE POLKADOT CUP</td>\n",
       "      <td>-3</td>\n",
       "      <td>0.85</td>\n",
       "      <td>13908.0</td>\n",
       "      <td>United Kingdom</td>\n",
       "    </tr>\n",
       "    <tr>\n",
       "      <th>2011-05-12 19:44:00</th>\n",
       "      <td>C553032</td>\n",
       "      <td>22891</td>\n",
       "      <td>TEA FOR ONE POLKADOT</td>\n",
       "      <td>-3</td>\n",
       "      <td>4.25</td>\n",
       "      <td>13320.0</td>\n",
       "      <td>United Kingdom</td>\n",
       "    </tr>\n",
       "    <tr>\n",
       "      <th>2011-05-12 19:44:00</th>\n",
       "      <td>C553032</td>\n",
       "      <td>22631</td>\n",
       "      <td>CIRCUS PARADE LUNCH BOX</td>\n",
       "      <td>-3</td>\n",
       "      <td>1.95</td>\n",
       "      <td>13320.0</td>\n",
       "      <td>United Kingdom</td>\n",
       "    </tr>\n",
       "  </tbody>\n",
       "</table>\n",
       "<p>327110 rows × 7 columns</p>\n",
       "</div>"
      ],
      "text/plain": [
       "                     Invoice StockCode                          Description  \\\n",
       "InvoiceDate                                                                   \n",
       "2009-12-01 07:45:00   489434     85048  15CM CHRISTMAS GLASS BALL 20 LIGHTS   \n",
       "2009-12-01 07:45:00   489434    79323P                   PINK CHERRY LIGHTS   \n",
       "2009-12-01 07:45:00   489434    79323W                  WHITE CHERRY LIGHTS   \n",
       "2009-12-01 07:45:00   489434     22041         RECORD FRAME 7\" SINGLE SIZE    \n",
       "2009-12-01 07:45:00   489434     21232       STRAWBERRY CERAMIC TRINKET BOX   \n",
       "...                      ...       ...                                  ...   \n",
       "2011-05-12 19:43:00  C553031     22300         COFFEE MUG DOG + BALL DESIGN   \n",
       "2011-05-12 19:43:00  C553031     21533             RETROSPOT LARGE MILK JUG   \n",
       "2011-05-12 19:43:00  C553031     21240                    BLUE POLKADOT CUP   \n",
       "2011-05-12 19:44:00  C553032     22891                 TEA FOR ONE POLKADOT   \n",
       "2011-05-12 19:44:00  C553032     22631             CIRCUS PARADE LUNCH BOX    \n",
       "\n",
       "                     Quantity  Price  Customer ID         Country  \n",
       "InvoiceDate                                                        \n",
       "2009-12-01 07:45:00        12   6.95      13085.0  United Kingdom  \n",
       "2009-12-01 07:45:00        12   6.75      13085.0  United Kingdom  \n",
       "2009-12-01 07:45:00        12   6.75      13085.0  United Kingdom  \n",
       "2009-12-01 07:45:00        48   2.10      13085.0  United Kingdom  \n",
       "2009-12-01 07:45:00        24   1.25      13085.0  United Kingdom  \n",
       "...                       ...    ...          ...             ...  \n",
       "2011-05-12 19:43:00        -1   2.55      13908.0  United Kingdom  \n",
       "2011-05-12 19:43:00        -3   4.95      13908.0  United Kingdom  \n",
       "2011-05-12 19:43:00        -3   0.85      13908.0  United Kingdom  \n",
       "2011-05-12 19:44:00        -3   4.25      13320.0  United Kingdom  \n",
       "2011-05-12 19:44:00        -3   1.95      13320.0  United Kingdom  \n",
       "\n",
       "[327110 rows x 7 columns]"
      ]
     },
     "execution_count": 18,
     "metadata": {},
     "output_type": "execute_result"
    }
   ],
   "source": [
    "online_retail_data"
   ]
  },
  {
   "cell_type": "code",
   "execution_count": 16,
   "metadata": {},
   "outputs": [
    {
     "data": {
      "text/plain": [
       "<Axes: title={'center': 'Time Series of Price'}, xlabel='InvoiceDate'>"
      ]
     },
     "execution_count": 16,
     "metadata": {},
     "output_type": "execute_result"
    },
    {
     "data": {
      "image/png": "[encoded data removed]",
      "text/plain": [
       "<Figure size 1000x600 with 1 Axes>"
      ]
     },
     "metadata": {},
     "output_type": "display_data"
    }
   ],
   "source": [
    "#Plot time series of price using pandas functionality. Filter transactions based on date\n",
    "online_retail_data['InvoiceDate'] = pd.to_datetime(online_retail_data['InvoiceDate'],format='%d-%m-%Y %H:%M',errors=\"coerce\")   \n",
    "online_retail_data.set_index('InvoiceDate', inplace=True)\n",
    "online_retail_data['Price'].plot(figsize=(10, 6), title='Time Series of Price')"
   ]
  },
  {
   "cell_type": "code",
   "execution_count": 24,
   "metadata": {},
   "outputs": [
    {
     "data": {
      "text/plain": [
       "<Axes: title={'center': 'Time Series of Price in 2011 where Quantity < 1000'}, xlabel='InvoiceDate'>"
      ]
     },
     "execution_count": 24,
     "metadata": {},
     "output_type": "execute_result"
    },
    {
     "data": {
      "image/png": "[encoded data removed]",
      "text/plain": [
       "<Figure size 1000x600 with 1 Axes>"
      ]
     },
     "metadata": {},
     "output_type": "display_data"
    }
   ],
   "source": [
    "# Plot time series chart of price where quantity less than 1000 and in year 2011.\n",
    "online_retail_data.index = pd.to_datetime(online_retail_data.index)\n",
    "filtered_data = online_retail_data[\n",
    "    (online_retail_data['Quantity'] < 1000) & \n",
    "    (online_retail_data.index.year == 2011)\n",
    "]\n",
    "filtered_data['Price'].plot(figsize=(10, 6), title='Time Series of Price in 2011 where Quantity < 1000')"
   ]
  },
  {
   "cell_type": "code",
   "execution_count": 35,
   "metadata": {},
   "outputs": [
    {
     "data": {
      "text/html": [
       "<div>\n",
       "<style scoped>\n",
       "    .dataframe tbody tr th:only-of-type {\n",
       "        vertical-align: middle;\n",
       "    }\n",
       "\n",
       "    .dataframe tbody tr th {\n",
       "        vertical-align: top;\n",
       "    }\n",
       "\n",
       "    .dataframe thead th {\n",
       "        text-align: right;\n",
       "    }\n",
       "</style>\n",
       "<table border=\"1\" class=\"dataframe\">\n",
       "  <thead>\n",
       "    <tr style=\"text-align: right;\">\n",
       "      <th></th>\n",
       "      <th>TotalPrice</th>\n",
       "    </tr>\n",
       "    <tr>\n",
       "      <th>Description</th>\n",
       "      <th></th>\n",
       "    </tr>\n",
       "  </thead>\n",
       "  <tbody>\n",
       "    <tr>\n",
       "      <th>DOORMAT UNION JACK GUNS AND ROSES</th>\n",
       "      <td>1084.75</td>\n",
       "    </tr>\n",
       "    <tr>\n",
       "      <th>3 STRIPEY MICE FELTCRAFT</th>\n",
       "      <td>1227.45</td>\n",
       "    </tr>\n",
       "    <tr>\n",
       "      <th>4 PURPLE FLOCK DINNER CANDLES</th>\n",
       "      <td>63.75</td>\n",
       "    </tr>\n",
       "    <tr>\n",
       "      <th>ANIMAL STICKERS</th>\n",
       "      <td>80.85</td>\n",
       "    </tr>\n",
       "    <tr>\n",
       "      <th>BLACK PIRATE TREASURE CHEST</th>\n",
       "      <td>77.55</td>\n",
       "    </tr>\n",
       "    <tr>\n",
       "      <th>...</th>\n",
       "      <td>...</td>\n",
       "    </tr>\n",
       "    <tr>\n",
       "      <th>ZINC T-LIGHT HOLDER STARS SMALL</th>\n",
       "      <td>908.31</td>\n",
       "    </tr>\n",
       "    <tr>\n",
       "      <th>ZINC TOP  2 DOOR WOODEN SHELF</th>\n",
       "      <td>1050.35</td>\n",
       "    </tr>\n",
       "    <tr>\n",
       "      <th>ZINC WILLIE WINKIE  CANDLE STICK</th>\n",
       "      <td>1746.44</td>\n",
       "    </tr>\n",
       "    <tr>\n",
       "      <th>ZINC WIRE KITCHEN ORGANISER</th>\n",
       "      <td>20.80</td>\n",
       "    </tr>\n",
       "    <tr>\n",
       "      <th>ZINC WIRE SWEETHEART LETTER TRAY</th>\n",
       "      <td>97.71</td>\n",
       "    </tr>\n",
       "  </tbody>\n",
       "</table>\n",
       "<p>4582 rows × 1 columns</p>\n",
       "</div>"
      ],
      "text/plain": [
       "                                     TotalPrice\n",
       "Description                                    \n",
       "  DOORMAT UNION JACK GUNS AND ROSES     1084.75\n",
       " 3 STRIPEY MICE FELTCRAFT               1227.45\n",
       " 4 PURPLE FLOCK DINNER CANDLES            63.75\n",
       " ANIMAL STICKERS                          80.85\n",
       " BLACK PIRATE TREASURE CHEST              77.55\n",
       "...                                         ...\n",
       "ZINC T-LIGHT HOLDER STARS SMALL          908.31\n",
       "ZINC TOP  2 DOOR WOODEN SHELF           1050.35\n",
       "ZINC WILLIE WINKIE  CANDLE STICK        1746.44\n",
       "ZINC WIRE KITCHEN ORGANISER               20.80\n",
       "ZINC WIRE SWEETHEART LETTER TRAY          97.71\n",
       "\n",
       "[4582 rows x 1 columns]"
      ]
     },
     "execution_count": 35,
     "metadata": {},
     "output_type": "execute_result"
    }
   ],
   "source": [
    "# Calculate total amount of price in pivot table based on product description\n",
    "online_retail_data['TotalPrice'] = online_retail_data['Quantity'] * online_retail_data['Price']\n",
    "pivot_table = online_retail_data.pivot_table(values='TotalPrice', index='Description', aggfunc='sum')\n",
    "pivot_table"
   ]
  },
  {
   "cell_type": "code",
   "execution_count": 36,
   "metadata": {},
   "outputs": [
    {
     "data": {
      "text/plain": [
       "('United Kingdom', 'WHITE HANGING HEART T-LIGHT HOLDER')"
      ]
     },
     "execution_count": 36,
     "metadata": {},
     "output_type": "execute_result"
    }
   ],
   "source": [
    "# Find the country with the highest price and which product\n",
    "country_product = online_retail_data.groupby(['Country', 'Description'])['TotalPrice'].sum().idxmax()\n",
    "country_product"
   ]
  },
  {
   "cell_type": "code",
   "execution_count": 37,
   "metadata": {},
   "outputs": [
    {
     "data": {
      "text/plain": [
       "np.float64(114826.23)"
      ]
     },
     "execution_count": 37,
     "metadata": {},
     "output_type": "execute_result"
    }
   ],
   "source": [
    "highest_price_value = online_retail_data.groupby(['Country', 'Description'])['TotalPrice'].sum().max()\n",
    "highest_price_value"
   ]
  },
  {
   "cell_type": "code",
   "execution_count": 39,
   "metadata": {},
   "outputs": [
    {
     "data": {
      "text/plain": [
       "Description\n",
       "ROUND CAKE TIN VINTAGE GREEN         0.0\n",
       "CAST IRON HOOK GARDEN FORK           0.0\n",
       "CAST IRON HOOK GARDEN TROWEL         0.0\n",
       "REGENCY CAKESTAND 3 TIER             0.0\n",
       "RETRO SPOT LARGE MILK JUG            0.0\n",
       "VINTAGE GLASS COFFEE CADDY           0.0\n",
       "SET/5 RED SPOTTY LID GLASS BOWLS     0.0\n",
       "AIRLINE BAG VINTAGE JET SET WHITE    0.0\n",
       "This is a test product.              0.0\n",
       "ADVENT CALENDAR GINGHAM SACK         0.0\n",
       "Name: Price, dtype: float64"
      ]
     },
     "execution_count": 39,
     "metadata": {},
     "output_type": "execute_result"
    }
   ],
   "source": [
    "# Top 10 products with minimum price in the year 2010\n",
    "online_retail_data.index = pd.to_datetime(online_retail_data.index)\n",
    "filtered_data = online_retail_data[\n",
    "    (online_retail_data.index.year == 2010)\n",
    "]\n",
    "top_10_products = filtered_data.groupby('Description')['Price'].min().sort_values().head(10)\n",
    "top_10_products"
   ]
  },
  {
   "cell_type": "markdown",
   "metadata": {},
   "source": [
    "### Write python program to extract email address from dataframe column. Please use following sample dataframe.\n",
    "data = { \"Company Name\": [\"ABC Inc.\", \"XYZ Corporation\", \"Tech Solutions Ltd.\", \"Global Services LLC\", \"Innovative Ventures\"], \"Description\": [\"Contact us at info@abcinc.com for more information.\", \"For inquiries, email us at contact@xyzcorp.com.\", \"Tech Solutions Ltd. provides support via support@techsolutions.com.\", \"Reach out to us at info@globalservicesllc.net for business inquiries.\", \"Email us at hello@innovativeventures.org for partnership opportunities.\"] }"
   ]
  },
  {
   "cell_type": "code",
   "execution_count": 40,
   "metadata": {},
   "outputs": [],
   "source": [
    "data={\n",
    "    \"Company Name\": [\n",
    "        \"ABC Inc.\", \n",
    "        \"XYZ Corporation\", \n",
    "        \"Tech Solutions Ltd.\", \n",
    "        \"Global Services LLC\", \n",
    "        \"Innovative Ventures\"\n",
    "    ],\n",
    "    \"Description\": [\n",
    "        \"Contact us at info@abcinc.com for more information.\",\n",
    "        \"For inquiries, email us at contact@xyzcorp.com.\",\n",
    "        \"Tech Solutions Ltd. provides support via support@techsolutions.com.\",\n",
    "        \"Reach out to us at info@globalservicesllc.net for business inquiries.\",\n",
    "          \"Email us at hello@innovativeventures.org for partnership opportunities.\"\n",
    "    ]\n",
    "}"
   ]
  },
  {
   "cell_type": "code",
   "execution_count": 41,
   "metadata": {},
   "outputs": [],
   "source": [
    "df=pd.DataFrame(data)"
   ]
  },
  {
   "cell_type": "code",
   "execution_count": 42,
   "metadata": {},
   "outputs": [],
   "source": [
    "import re"
   ]
  },
  {
   "cell_type": "code",
   "execution_count": 49,
   "metadata": {},
   "outputs": [],
   "source": [
    "# pattern to match Email\n",
    "def match_mail(input_mail):\n",
    "    \"\"\" This function matches unser input discription with mail pattern and extracts the email\n",
    "      Args:\n",
    "        String : input column with lot of semi-tructured\n",
    "        Returns: List Email column\"\"\"\n",
    "    email_pattern=r'\\b[A-Za-z0-9._%+-]+@[A-Za-z0-9.-]+\\.[A-Z|a-z]{2,}\\b'\n",
    "    emails=re.findall(email_pattern,input_mail)\n",
    "    return emails[0]\n",
    "\n",
    "df['email_Address']=df['Description'].apply(match_mail)"
   ]
  },
  {
   "cell_type": "code",
   "execution_count": 50,
   "metadata": {},
   "outputs": [
    {
     "data": {
      "text/html": [
       "<div>\n",
       "<style scoped>\n",
       "    .dataframe tbody tr th:only-of-type {\n",
       "        vertical-align: middle;\n",
       "    }\n",
       "\n",
       "    .dataframe tbody tr th {\n",
       "        vertical-align: top;\n",
       "    }\n",
       "\n",
       "    .dataframe thead th {\n",
       "        text-align: right;\n",
       "    }\n",
       "</style>\n",
       "<table border=\"1\" class=\"dataframe\">\n",
       "  <thead>\n",
       "    <tr style=\"text-align: right;\">\n",
       "      <th></th>\n",
       "      <th>Company Name</th>\n",
       "      <th>Description</th>\n",
       "      <th>email_Address</th>\n",
       "    </tr>\n",
       "  </thead>\n",
       "  <tbody>\n",
       "    <tr>\n",
       "      <th>0</th>\n",
       "      <td>ABC Inc.</td>\n",
       "      <td>Contact us at info@abcinc.com for more informa...</td>\n",
       "      <td>info@abcinc.com</td>\n",
       "    </tr>\n",
       "    <tr>\n",
       "      <th>1</th>\n",
       "      <td>XYZ Corporation</td>\n",
       "      <td>For inquiries, email us at contact@xyzcorp.com.</td>\n",
       "      <td>contact@xyzcorp.com</td>\n",
       "    </tr>\n",
       "    <tr>\n",
       "      <th>2</th>\n",
       "      <td>Tech Solutions Ltd.</td>\n",
       "      <td>Tech Solutions Ltd. provides support via suppo...</td>\n",
       "      <td>support@techsolutions.com</td>\n",
       "    </tr>\n",
       "    <tr>\n",
       "      <th>3</th>\n",
       "      <td>Global Services LLC</td>\n",
       "      <td>Reach out to us at info@globalservicesllc.net ...</td>\n",
       "      <td>info@globalservicesllc.net</td>\n",
       "    </tr>\n",
       "    <tr>\n",
       "      <th>4</th>\n",
       "      <td>Innovative Ventures</td>\n",
       "      <td>Email us at hello@innovativeventures.org for p...</td>\n",
       "      <td>hello@innovativeventures.org</td>\n",
       "    </tr>\n",
       "  </tbody>\n",
       "</table>\n",
       "</div>"
      ],
      "text/plain": [
       "          Company Name                                        Description  \\\n",
       "0             ABC Inc.  Contact us at info@abcinc.com for more informa...   \n",
       "1      XYZ Corporation    For inquiries, email us at contact@xyzcorp.com.   \n",
       "2  Tech Solutions Ltd.  Tech Solutions Ltd. provides support via suppo...   \n",
       "3  Global Services LLC  Reach out to us at info@globalservicesllc.net ...   \n",
       "4  Innovative Ventures  Email us at hello@innovativeventures.org for p...   \n",
       "\n",
       "                  email_Address  \n",
       "0               info@abcinc.com  \n",
       "1           contact@xyzcorp.com  \n",
       "2     support@techsolutions.com  \n",
       "3    info@globalservicesllc.net  \n",
       "4  hello@innovativeventures.org  "
      ]
     },
     "execution_count": 50,
     "metadata": {},
     "output_type": "execute_result"
    }
   ],
   "source": [
    "df"
   ]
  },
  {
   "cell_type": "markdown",
   "metadata": {},
   "source": [
    "#### Write function which takes string as input and returns dictionary that contains each word and its frequency. Take input from user and use regex for matching patterns\n",
    "E.g text = \"Hello world, hello python. Python is a programming language.\" Output: { \"hello\": 2, \"world\": 1, \"python\": 2, \"is\": 1, \"a\": 1, \"programming\": 1, \"language\": 1 }"
   ]
  },
  {
   "cell_type": "code",
   "execution_count": 51,
   "metadata": {},
   "outputs": [
    {
     "name": "stdout",
     "output_type": "stream",
     "text": [
      "{'the': 2, 'data': 2, 'about': 1, 'or': 1, 'database': 1, 'is': 1, 'known': 1, 'as': 1, 'metadata': 1}\n"
     ]
    }
   ],
   "source": [
    "def word_frequency(text):\n",
    "    \"\"\" This function teake user input and calculates occurence of each  word and add it to dictonary\n",
    "    Args:\n",
    "        String: User input String (any text) \n",
    "    \n",
    "    Returns:dictornary with word count and occurences\n",
    "    \"\"\"\n",
    "    words=re.findall(r'\\b\\w+\\b',text.lower())\n",
    "    word_Count={}\n",
    "\n",
    "    for word in words:\n",
    "        if word in word_Count:\n",
    "            word_Count[word]+=1\n",
    "        else:\n",
    "            word_Count[word]=1\n",
    "    return word_Count\n",
    "\n",
    "text=\"The data about the data or database is known as metadata\"\n",
    "print(word_frequency(text)) "
   ]
  },
  {
   "cell_type": "code",
   "execution_count": null,
   "metadata": {},
   "outputs": [],
   "source": []
  }
 ],
 "metadata": {
  "kernelspec": {
   "display_name": "venv",
   "language": "python",
   "name": "python3"
  },
  "language_info": {
   "codemirror_mode": {
    "name": "ipython",
    "version": 3
   },
   "file_extension": ".py",
   "mimetype": "text/x-python",
   "name": "python",
   "nbconvert_exporter": "python",
   "pygments_lexer": "ipython3",
   "version": "3.13.1"
  }
 },
 "nbformat": 4,
 "nbformat_minor": 2
}

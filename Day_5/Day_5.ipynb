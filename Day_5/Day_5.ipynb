{
 "cells": [
  {
   "cell_type": "code",
   "execution_count": 1,
   "metadata": {},
   "outputs": [],
   "source": [
    "# %pip install beautifulsoup4"
   ]
  },
  {
   "cell_type": "code",
   "execution_count": 2,
   "metadata": {},
   "outputs": [],
   "source": [
    "# %pip install requests\n",
    "# %pip install webdriver_manager"
   ]
  },
  {
   "cell_type": "code",
   "execution_count": 3,
   "metadata": {},
   "outputs": [],
   "source": [
    "from bs4 import BeautifulSoup\n",
    "import requests\n",
    "from webdriver_manager.chrome import ChromeDriverManager\n",
    "from selenium import webdriver"
   ]
  },
  {
   "cell_type": "code",
   "execution_count": 4,
   "metadata": {},
   "outputs": [],
   "source": [
    "html = '''\n",
    "<html>\n",
    "    <body>\n",
    "        <p class=\"intro\">This is a paragraph with class \"intro\".</p>\n",
    "        <p id=\"unique-para\">This is a unique paragraph with id \"unique-para\".</p>\n",
    "        <div class=\"container\">\n",
    "            <h1 class=\"header\">This is the first h1</h1>\n",
    "            <h1 class=\"header\">This is the second h1</h1>\n",
    "            <h1 class=\"header\">This is the third h1</h1>\n",
    "            <span>This is a span element inside the div.</span>\n",
    "        </div>\n",
    "    </body>\n",
    "</html>\n",
    "'''"
   ]
  },
  {
   "cell_type": "code",
   "execution_count": 5,
   "metadata": {},
   "outputs": [
    {
     "name": "stdout",
     "output_type": "stream",
     "text": [
      "<html>\n",
      " <body>\n",
      "  <p class=\"intro\">\n",
      "   This is a paragraph with class \"intro\".\n",
      "  </p>\n",
      "  <p id=\"unique-para\">\n",
      "   This is a unique paragraph with id \"unique-para\".\n",
      "  </p>\n",
      "  <div class=\"container\">\n",
      "   <h1 class=\"header\">\n",
      "    This is the first h1\n",
      "   </h1>\n",
      "   <h1 class=\"header\">\n",
      "    This is the second h1\n",
      "   </h1>\n",
      "   <h1 class=\"header\">\n",
      "    This is the third h1\n",
      "   </h1>\n",
      "   <span>\n",
      "    This is a span element inside the div.\n",
      "   </span>\n",
      "  </div>\n",
      " </body>\n",
      "</html>\n",
      "\n"
     ]
    }
   ],
   "source": [
    "soup = BeautifulSoup(html, 'html.parser')\n",
    "print(soup.prettify())"
   ]
  },
  {
   "cell_type": "code",
   "execution_count": 6,
   "metadata": {},
   "outputs": [],
   "source": [
    "data = soup.find_all('h1', class_='header')"
   ]
  },
  {
   "cell_type": "code",
   "execution_count": 7,
   "metadata": {},
   "outputs": [
    {
     "name": "stdout",
     "output_type": "stream",
     "text": [
      "This is the first h1\n",
      "This is the second h1\n",
      "This is the third h1\n"
     ]
    }
   ],
   "source": [
    "for item in data:\n",
    "    print(item.text)"
   ]
  },
  {
   "cell_type": "code",
   "execution_count": 8,
   "metadata": {},
   "outputs": [
    {
     "name": "stdout",
     "output_type": "stream",
     "text": [
      "This is a unique paragraph with id \"unique-para\".\n"
     ]
    }
   ],
   "source": [
    "para = soup.select_one('p#unique-para')\n",
    "print(para.text)"
   ]
  },
  {
   "cell_type": "markdown",
   "metadata": {},
   "source": [
    "1. `find` : For single match\n",
    "2. `find_all` : For multiple matches and returns list\n",
    "3. `select` : For single match using CSS selector \n",
    "4. `select_one` : For multiple matches using CSS selector"
   ]
  },
  {
   "cell_type": "code",
   "execution_count": 9,
   "metadata": {},
   "outputs": [],
   "source": [
    "def file_function(path):\n",
    "    '''\n",
    "    This function reads the index.html file and prints it.\n",
    "    '''\n",
    "    with open(path) as file:\n",
    "        soup = BeautifulSoup(file, 'html.parser')\n",
    "    \n",
    "    return soup"
   ]
  },
  {
   "cell_type": "code",
   "execution_count": 10,
   "metadata": {},
   "outputs": [
    {
     "data": {
      "text/plain": [
       "<!DOCTYPE html>\n",
       "\n",
       "<html lang=\"en\">\n",
       "<head>\n",
       "<meta charset=\"utf-8\"/>\n",
       "<title>My Website</title>\n",
       "<!-- CSS only -->\n",
       "<link crossorigin=\"anonymous\" href=\"https://cdn.jsdelivr.net/npm/bootstrap@5.0.0-beta3/dist/css/bootstrap.min.css\" integrity=\"sha384-eOJMYsd53ii+scO/bJGFsiCZc+5NDVN2yr8+0RDqr0Ql0h+rP48ckxlpbzKgwra6\" rel=\"stylesheet\"/>\n",
       "<style>\n",
       "        h1 {\n",
       "            text-align: center;\n",
       "        }\n",
       "    </style>\n",
       "</head>\n",
       "<body>\n",
       "<div class=\"container\">\n",
       "<h1>List of Products</h1>\n",
       "<div>100</div>\n",
       "<div>answer = {{answer}}</div>\n",
       "<table class=\"table table-striped\">\n",
       "<thead>\n",
       "<tr>\n",
       "<th>col 1</th>\n",
       "<th>col 2</th>\n",
       "<th>col 3</th>\n",
       "</tr>\n",
       "</thead>\n",
       "<tbody>\n",
       "<tr>\n",
       "<td>row 1 col 1</td>\n",
       "<td>row 1 col 2</td>\n",
       "<td>row 1 col 3</td>\n",
       "</tr>\n",
       "<tr>\n",
       "<td>row 2 col 1</td>\n",
       "<td>row 2 col 2</td>\n",
       "<td>row 2 col 3</td>\n",
       "</tr>\n",
       "</tbody>\n",
       "</table>\n",
       "</div>\n",
       "</body>\n",
       "</html>"
      ]
     },
     "execution_count": 10,
     "metadata": {},
     "output_type": "execute_result"
    }
   ],
   "source": [
    "file_function(path=\"index.html\")"
   ]
  },
  {
   "cell_type": "code",
   "execution_count": 11,
   "metadata": {},
   "outputs": [
    {
     "name": "stdout",
     "output_type": "stream",
     "text": [
      "Today36Â°/24Â°Mostly SunnyMostly SunnyRain5%WindWNW 11 km/hArrow UpTue 04 | Day36Â°Mostly SunnyRain5%WindWNW 11 km/hGenerally clear. High 36ÂºC. Winds WNW at 10 to 15 km/h.HumidityHumidity36%UV LevelUV IndexExtremeSun RiseSunrise06:05SunsetSunset18:57Tue 04 | Night24Â°Partly Cloudy NightRain3%WindW 11 km/hPartly cloudy. Low 24ÂºC. Winds W at 10 to 15 km/h.HumidityHumidity55%UV LevelUV Index0 of 10Moon RiseMoonrise01:27Moon Phase - Day 22Last QuarterMoon SetMoonset12:53Wed 0538Â°/25Â°Mostly SunnyMostly SunnyRain10%WindWNW 13 km/hArrow DownWed 05 | Day38Â°Mostly SunnyRain10%WindWNW 13 km/hGenerally clear. High 38ÂºC. Winds WNW at 10 to 15 km/h.HumidityHumidity35%UV LevelUV IndexExtremeSun RiseSunrise06:04SunsetSunset18:57Wed 05 | Night25Â°Partly Cloudy NightRain2%WindW 13 km/hPartly cloudy. Low 25ÂºC. Winds W at 10 to 15 km/h.HumidityHumidity59%UV LevelUV Index0 of 10Moon RiseMoonrise02:11Moon Phase - Day 23Waning CrescentMoon SetMoonset13:47Thu 0638Â°/25Â°Mostly SunnyMostly SunnyRain17%WindW 12 km/hArrow DownThu 06 | Day38Â°Mostly SunnyRain17%WindW 12 km/hGenerally clear. High 38ÂºC. Winds W at 10 to 15 km/h.HumidityHumidity37%UV LevelUV IndexExtremeSun RiseSunrise06:04SunsetSunset18:58Thu 06 | Night25Â°Partly Cloudy NightRain16%WindWSW 12 km/hPartly cloudy. Low 25ÂºC. Winds WSW at 10 to 15 km/h.HumidityHumidity68%UV LevelUV Index0 of 10Moon RiseMoonrise02:51Moon Phase - Day 24Waning CrescentMoon SetMoonset14:40Fri 0736Â°/25Â°Mostly SunnyMostly SunnyRain17%WindW 10 km/hArrow DownFri 07 | Day36Â°Mostly SunnyRain17%WindW 10 km/hGenerally clear. High 36ÂºC. Winds W and variable.HumidityHumidity44%UV LevelUV IndexExtremeSun RiseSunrise06:04SunsetSunset18:58Fri 07 | Night25Â°Partly Cloudy NightRain9%WindWSW 9 km/hPartly cloudy. Low 25ÂºC. Winds WSW and variable.HumidityHumidity68%UV LevelUV Index0 of 10Moon RiseMoonrise03:27Moon Phase - Day 25Waning CrescentMoon SetMoonset15:29Sat 0836Â°/25Â°Mostly SunnyMostly SunnyRain24%WindW 12 km/hArrow DownSat 08 | Day36Â°Mostly SunnyRain24%WindW 12 km/hGenerally clear. High 36ÂºC. Winds W at 10 to 15 km/h.HumidityHumidity46%UV LevelUV IndexExtremeSun RiseSunrise06:03SunsetSunset18:58Sat 08 | Night25Â°Partly Cloudy NightRain5%WindWSW 12 km/hPartly cloudy. Low 25ÂºC. Winds WSW at 10 to 15 km/h.HumidityHumidity68%UV LevelUV Index0 of 10Moon RiseMoonrise04:01Moon Phase - Day 26Waning CrescentMoon SetMoonset16:18Sun 0937Â°/24Â°Isolated ThunderstormsIsolated T-StormsRain33%WindW 13 km/hArrow DownSun 09 | Day37Â°Isolated ThunderstormsRain33%WindW 13 km/hPartly cloudy, with a possible thunderstorm. High 37ÂºC. Winds W at 10 to 15 km/h. Chance of rain 30%.HumidityHumidity44%UV LevelUV IndexExtremeSun RiseSunrise06:03SunsetSunset18:59Sun 09 | Night24Â°Partly Cloudy NightRain10%WindW 13 km/hPartly cloudy. Low 24ÂºC. Winds W at 10 to 15 km/h.HumidityHumidity71%UV LevelUV Index0 of 10Moon RiseMoonrise04:34Moon Phase - Day 27Waning CrescentMoon SetMoonset17:06Mon 1036Â°/23Â°Partly CloudyPartly CloudyRain24%WindW 16 km/hArrow DownMon 10 | Day36Â°Partly CloudyRain24%WindW 16 km/hPartly cloudy. High 36ÂºC. Winds W at 10 to 15 km/h.HumidityHumidity48%UV LevelUV IndexExtremeSun RiseSunrise06:02SunsetSunset18:59Mon 10 | Night23Â°Mostly Clear NightRain10%WindW 15 km/hGenerally clear. Low 23ÂºC. Winds W at 10 to 15 km/h.HumidityHumidity73%UV LevelUV Index0 of 10Moon RiseMoonrise05:08Moon Phase - Day 28Waning CrescentMoon SetMoonset17:54Tue 1136Â°/23Â°Mostly SunnyMostly SunnyRain6%WindW 19 km/hArrow DownTue 11 | Day36Â°Mostly SunnyRain6%WindW 19 km/hGenerally clear. High 36ÂºC. Winds W at 15 to 25 km/h.HumidityHumidity50%UV LevelUV IndexExtremeSun RiseSunrise06:02SunsetSunset19:00Tue 11 | Night23Â°Mostly Clear NightRain8%WindW 16 km/hGenerally clear. Low 23ÂºC. Winds W at 10 to 15 km/h.HumidityHumidity77%UV LevelUV Index0 of 10Moon RiseMoonrise05:42Moon Phase - Day 29NewMoon SetMoonset18:43Wed 1236Â°/23Â°Mostly SunnyMostly SunnyRain11%WindW 19 km/hArrow DownWed 12 | Day36Â°Mostly SunnyRain11%WindW 19 km/hGenerally clear. High 36ÂºC. Winds W at 15 to 25 km/h.HumidityHumidity49%UV LevelUV IndexExtremeSun RiseSunrise06:01SunsetSunset19:00Wed 12 | Night23Â°Mostly Clear NightRain15%WindW 15 km/hGenerally clear. Low 22ÂºC. Winds W at 10 to 15 km/h.HumidityHumidity76%UV LevelUV Index0 of 10Moon RiseMoonrise06:19Moon Phase - Day 0NewMoon SetMoonset19:33Thu 1336Â°/23Â°Mostly SunnyMostly SunnyRain12%WindW 19 km/hArrow DownThu 13 | Day36Â°Mostly SunnyRain12%WindW 19 km/hGenerally clear. High 36ÂºC. Winds W at 15 to 25 km/h.HumidityHumidity49%UV LevelUV IndexExtremeSun RiseSunrise06:01SunsetSunset19:00Thu 13 | Night23Â°Partly Cloudy NightRain19%WindW 16 km/hPartly cloudy. Low 23ÂºC. Winds W at 10 to 15 km/h.HumidityHumidity77%UV LevelUV Index0 of 10Moon RiseMoonrise06:59Moon Phase - Day 1Waxing CrescentMoon SetMoonset20:25Fri 1436Â°/23Â°Mostly SunnyMostly SunnyRain22%WindW 19 km/hArrow DownFri 14 | Day36Â°Mostly SunnyRain22%WindW 19 km/hGenerally clear. High 36ÂºC. Winds W at 15 to 25 km/h.HumidityHumidity51%UV LevelUV IndexExtremeSun RiseSunrise06:01SunsetSunset19:01Fri 14 | Night23Â°Partly Cloudy NightRain24%WindW 16 km/hPartly cloudy. Low 23ÂºC. Winds W at 10 to 15 km/h.HumidityHumidity77%UV LevelUV Index0 of 10Moon RiseMoonrise07:42Moon Phase - Day 2Waxing CrescentMoon SetMoonset21:17Sat 1535Â°/24Â°Partly CloudyPartly CloudyRain24%WindWSW 19 km/hArrow DownSat 15 | Day35Â°Partly CloudyRain24%WindWSW 19 km/hPartly cloudy. High 35ÂºC. Winds WSW at 15 to 25 km/h.HumidityHumidity54%UV LevelUV IndexExtremeSun RiseSunrise06:00SunsetSunset19:01Sat 15 | Night24Â°Partly Cloudy NightRain24%WindWSW 15 km/hPartly cloudy. Low 24ÂºC. Winds WSW at 10 to 15 km/h.HumidityHumidity77%UV LevelUV Index0 of 10Moon RiseMoonrise08:29Moon Phase - Day 3Waxing CrescentMoon SetMoonset22:09Sun 1635Â°/24Â°Mostly SunnyMostly SunnyRain21%WindWSW 18 km/hArrow DownSun 16 | Day35Â°Mostly SunnyRain21%WindWSW 18 km/hGenerally clear. High 35ÂºC. Winds WSW at 15 to 25 km/h.HumidityHumidity53%UV LevelUV IndexExtremeSun RiseSunrise06:00SunsetSunset19:01Sun 16 | Night24Â°Partly Cloudy NightRain18%WindWSW 14 km/hPartly cloudy. Low 24ÂºC. Winds WSW at 10 to 15 km/h.HumidityHumidity74%UV LevelUV Index0 of 10Moon RiseMoonrise09:20Moon Phase - Day 4Waxing CrescentMoon SetMoonset23:01Mon 1735Â°/24Â°Partly CloudyPartly CloudyRain24%WindWSW 18 km/hArrow DownMon 17 | Day35Â°Partly CloudyRain24%WindWSW 18 km/hPartly cloudy. High 35ÂºC. Winds WSW at 15 to 25 km/h.HumidityHumidity53%UV LevelUV IndexExtremeSun RiseSunrise06:00SunsetSunset19:02Mon 17 | Night24Â°Scattered Showers NightRain32%WindWSW 14 km/hShowers late at night. Low 24ÂºC. Winds WSW at 10 to 15 km/h. Chance of rain 30%.HumidityHumidity76%UV LevelUV Index0 of 10Moon RiseMoonrise10:13Moon Phase - Day 5Waxing CrescentMoon SetMoonset23:49Tue 1835Â°/24Â°Partly CloudyPartly CloudyRain20%WindWSW 18 km/hArrow DownTue 18 | Day35Â°Partly CloudyRain20%WindWSW 18 km/hPartly cloudy. High 35ÂºC. Winds WSW at 15 to 25 km/h.HumidityHumidity54%UV LevelUV IndexExtremeSun RiseSunrise05:59SunsetSunset19:02Tue 18 | Night24Â°Mostly Clear NightRain6%WindWSW 14 km/hGenerally clear. Low 24ÂºC. Winds WSW at 10 to 15 km/h.HumidityHumidity76%UV LevelUV Index0 of 10Moon RiseMoonrise11:09Moon Phase - Day 6Waxing CrescentMoon SetMoonset--\n"
     ]
    }
   ],
   "source": [
    "souper = file_function(path='temp.html')\n",
    "# print(souper.prettify())\n",
    "headers = souper.find_all('div', class_=\"DailyForecast--DisclosureList--350ZO\")\n",
    "for head in headers:\n",
    "    data = head.text\n",
    "    print(data)"
   ]
  },
  {
   "cell_type": "code",
   "execution_count": 12,
   "metadata": {},
   "outputs": [
    {
     "data": {
      "text/plain": [
       "str"
      ]
     },
     "execution_count": 12,
     "metadata": {},
     "output_type": "execute_result"
    }
   ],
   "source": [
    "type(data)"
   ]
  },
  {
   "cell_type": "code",
   "execution_count": 13,
   "metadata": {},
   "outputs": [
    {
     "name": "stdout",
     "output_type": "stream",
     "text": [
      "Today36Â°/24Â°Mostly SunnyMostly SunnyRain5%WindWNW 11 km/hArrow UpTue 04 \n"
     ]
    }
   ],
   "source": [
    "import re\n",
    "\n",
    "data = data.split('|')\n",
    "# for d in data:\n",
    "#     print(d)\n",
    "\n",
    "today = data[0]\n",
    "print(today)"
   ]
  },
  {
   "cell_type": "code",
   "execution_count": 14,
   "metadata": {},
   "outputs": [],
   "source": [
    "def extractor(today):\n",
    "    match = re.search(r\"(\\d{2})[^\\d]+/(\\d{2})[^\\d]+([A-Za-z\\s]+(?:[A-Za-z\\s]+)*)\\d+%.*?([A-Za-z]{3} \\d{2})\\s*$\", today)\n",
    "\n",
    "    if match:\n",
    "        high_temp = match.group(1)\n",
    "        low_temp = match.group(2)\n",
    "        condition = match.group(3).strip()  # Remove extra spaces\n",
    "        date = match.group(4)\n",
    "\n",
    "        print(f\"High Temp: {high_temp}°\", end=\", \")\n",
    "        print(f\"Low Temp: {low_temp}°\", end=\", \")\n",
    "        print(f\"Condition: {condition}\", end=\", \")\n",
    "        print(f\"Date: {date}\")\n",
    "    else:\n",
    "        pass"
   ]
  },
  {
   "cell_type": "code",
   "execution_count": 15,
   "metadata": {},
   "outputs": [
    {
     "name": "stdout",
     "output_type": "stream",
     "text": [
      " Day36Â°Mostly SunnyRain5%WindWNW 11 km/hGenerally clear. High 36ÂºC. Winds WNW at 10 to 15 km/h.HumidityHumidity36%UV LevelUV IndexExtremeSun RiseSunrise06:05SunsetSunset18:57Tue 04 \n",
      " Night24Â°Partly Cloudy NightRain3%WindW 11 km/hPartly cloudy. Low 24ÂºC. Winds W at 10 to 15 km/h.HumidityHumidity55%UV LevelUV Index0 of 10Moon RiseMoonrise01:27Moon Phase - Day 22Last QuarterMoon SetMoonset12:53Wed 0538Â°/25Â°Mostly SunnyMostly SunnyRain10%WindWNW 13 km/hArrow DownWed 05 \n",
      " Day38Â°Mostly SunnyRain10%WindWNW 13 km/hGenerally clear. High 38ÂºC. Winds WNW at 10 to 15 km/h.HumidityHumidity35%UV LevelUV IndexExtremeSun RiseSunrise06:04SunsetSunset18:57Wed 05 \n",
      " Night25Â°Partly Cloudy NightRain2%WindW 13 km/hPartly cloudy. Low 25ÂºC. Winds W at 10 to 15 km/h.HumidityHumidity59%UV LevelUV Index0 of 10Moon RiseMoonrise02:11Moon Phase - Day 23Waning CrescentMoon SetMoonset13:47Thu 0638Â°/25Â°Mostly SunnyMostly SunnyRain17%WindW 12 km/hArrow DownThu 06 \n",
      " Day38Â°Mostly SunnyRain17%WindW 12 km/hGenerally clear. High 38ÂºC. Winds W at 10 to 15 km/h.HumidityHumidity37%UV LevelUV IndexExtremeSun RiseSunrise06:04SunsetSunset18:58Thu 06 \n",
      " Night25Â°Partly Cloudy NightRain16%WindWSW 12 km/hPartly cloudy. Low 25ÂºC. Winds WSW at 10 to 15 km/h.HumidityHumidity68%UV LevelUV Index0 of 10Moon RiseMoonrise02:51Moon Phase - Day 24Waning CrescentMoon SetMoonset14:40Fri 0736Â°/25Â°Mostly SunnyMostly SunnyRain17%WindW 10 km/hArrow DownFri 07 \n",
      " Day36Â°Mostly SunnyRain17%WindW 10 km/hGenerally clear. High 36ÂºC. Winds W and variable.HumidityHumidity44%UV LevelUV IndexExtremeSun RiseSunrise06:04SunsetSunset18:58Fri 07 \n",
      " Night25Â°Partly Cloudy NightRain9%WindWSW 9 km/hPartly cloudy. Low 25ÂºC. Winds WSW and variable.HumidityHumidity68%UV LevelUV Index0 of 10Moon RiseMoonrise03:27Moon Phase - Day 25Waning CrescentMoon SetMoonset15:29Sat 0836Â°/25Â°Mostly SunnyMostly SunnyRain24%WindW 12 km/hArrow DownSat 08 \n",
      " Day36Â°Mostly SunnyRain24%WindW 12 km/hGenerally clear. High 36ÂºC. Winds W at 10 to 15 km/h.HumidityHumidity46%UV LevelUV IndexExtremeSun RiseSunrise06:03SunsetSunset18:58Sat 08 \n",
      " Night25Â°Partly Cloudy NightRain5%WindWSW 12 km/hPartly cloudy. Low 25ÂºC. Winds WSW at 10 to 15 km/h.HumidityHumidity68%UV LevelUV Index0 of 10Moon RiseMoonrise04:01Moon Phase - Day 26Waning CrescentMoon SetMoonset16:18Sun 0937Â°/24Â°Isolated ThunderstormsIsolated T-StormsRain33%WindW 13 km/hArrow DownSun 09 \n",
      " Day37Â°Isolated ThunderstormsRain33%WindW 13 km/hPartly cloudy, with a possible thunderstorm. High 37ÂºC. Winds W at 10 to 15 km/h. Chance of rain 30%.HumidityHumidity44%UV LevelUV IndexExtremeSun RiseSunrise06:03SunsetSunset18:59Sun 09 \n",
      " Night24Â°Partly Cloudy NightRain10%WindW 13 km/hPartly cloudy. Low 24ÂºC. Winds W at 10 to 15 km/h.HumidityHumidity71%UV LevelUV Index0 of 10Moon RiseMoonrise04:34Moon Phase - Day 27Waning CrescentMoon SetMoonset17:06Mon 1036Â°/23Â°Partly CloudyPartly CloudyRain24%WindW 16 km/hArrow DownMon 10 \n",
      " Day36Â°Partly CloudyRain24%WindW 16 km/hPartly cloudy. High 36ÂºC. Winds W at 10 to 15 km/h.HumidityHumidity48%UV LevelUV IndexExtremeSun RiseSunrise06:02SunsetSunset18:59Mon 10 \n",
      " Night23Â°Mostly Clear NightRain10%WindW 15 km/hGenerally clear. Low 23ÂºC. Winds W at 10 to 15 km/h.HumidityHumidity73%UV LevelUV Index0 of 10Moon RiseMoonrise05:08Moon Phase - Day 28Waning CrescentMoon SetMoonset17:54Tue 1136Â°/23Â°Mostly SunnyMostly SunnyRain6%WindW 19 km/hArrow DownTue 11 \n",
      " Day36Â°Mostly SunnyRain6%WindW 19 km/hGenerally clear. High 36ÂºC. Winds W at 15 to 25 km/h.HumidityHumidity50%UV LevelUV IndexExtremeSun RiseSunrise06:02SunsetSunset19:00Tue 11 \n",
      " Night23Â°Mostly Clear NightRain8%WindW 16 km/hGenerally clear. Low 23ÂºC. Winds W at 10 to 15 km/h.HumidityHumidity77%UV LevelUV Index0 of 10Moon RiseMoonrise05:42Moon Phase - Day 29NewMoon SetMoonset18:43Wed 1236Â°/23Â°Mostly SunnyMostly SunnyRain11%WindW 19 km/hArrow DownWed 12 \n",
      " Day36Â°Mostly SunnyRain11%WindW 19 km/hGenerally clear. High 36ÂºC. Winds W at 15 to 25 km/h.HumidityHumidity49%UV LevelUV IndexExtremeSun RiseSunrise06:01SunsetSunset19:00Wed 12 \n",
      " Night23Â°Mostly Clear NightRain15%WindW 15 km/hGenerally clear. Low 22ÂºC. Winds W at 10 to 15 km/h.HumidityHumidity76%UV LevelUV Index0 of 10Moon RiseMoonrise06:19Moon Phase - Day 0NewMoon SetMoonset19:33Thu 1336Â°/23Â°Mostly SunnyMostly SunnyRain12%WindW 19 km/hArrow DownThu 13 \n",
      " Day36Â°Mostly SunnyRain12%WindW 19 km/hGenerally clear. High 36ÂºC. Winds W at 15 to 25 km/h.HumidityHumidity49%UV LevelUV IndexExtremeSun RiseSunrise06:01SunsetSunset19:00Thu 13 \n",
      " Night23Â°Partly Cloudy NightRain19%WindW 16 km/hPartly cloudy. Low 23ÂºC. Winds W at 10 to 15 km/h.HumidityHumidity77%UV LevelUV Index0 of 10Moon RiseMoonrise06:59Moon Phase - Day 1Waxing CrescentMoon SetMoonset20:25Fri 1436Â°/23Â°Mostly SunnyMostly SunnyRain22%WindW 19 km/hArrow DownFri 14 \n",
      " Day36Â°Mostly SunnyRain22%WindW 19 km/hGenerally clear. High 36ÂºC. Winds W at 15 to 25 km/h.HumidityHumidity51%UV LevelUV IndexExtremeSun RiseSunrise06:01SunsetSunset19:01Fri 14 \n",
      " Night23Â°Partly Cloudy NightRain24%WindW 16 km/hPartly cloudy. Low 23ÂºC. Winds W at 10 to 15 km/h.HumidityHumidity77%UV LevelUV Index0 of 10Moon RiseMoonrise07:42Moon Phase - Day 2Waxing CrescentMoon SetMoonset21:17Sat 1535Â°/24Â°Partly CloudyPartly CloudyRain24%WindWSW 19 km/hArrow DownSat 15 \n",
      " Day35Â°Partly CloudyRain24%WindWSW 19 km/hPartly cloudy. High 35ÂºC. Winds WSW at 15 to 25 km/h.HumidityHumidity54%UV LevelUV IndexExtremeSun RiseSunrise06:00SunsetSunset19:01Sat 15 \n",
      " Night24Â°Partly Cloudy NightRain24%WindWSW 15 km/hPartly cloudy. Low 24ÂºC. Winds WSW at 10 to 15 km/h.HumidityHumidity77%UV LevelUV Index0 of 10Moon RiseMoonrise08:29Moon Phase - Day 3Waxing CrescentMoon SetMoonset22:09Sun 1635Â°/24Â°Mostly SunnyMostly SunnyRain21%WindWSW 18 km/hArrow DownSun 16 \n",
      " Day35Â°Mostly SunnyRain21%WindWSW 18 km/hGenerally clear. High 35ÂºC. Winds WSW at 15 to 25 km/h.HumidityHumidity53%UV LevelUV IndexExtremeSun RiseSunrise06:00SunsetSunset19:01Sun 16 \n",
      " Night24Â°Partly Cloudy NightRain18%WindWSW 14 km/hPartly cloudy. Low 24ÂºC. Winds WSW at 10 to 15 km/h.HumidityHumidity74%UV LevelUV Index0 of 10Moon RiseMoonrise09:20Moon Phase - Day 4Waxing CrescentMoon SetMoonset23:01Mon 1735Â°/24Â°Partly CloudyPartly CloudyRain24%WindWSW 18 km/hArrow DownMon 17 \n",
      " Day35Â°Partly CloudyRain24%WindWSW 18 km/hPartly cloudy. High 35ÂºC. Winds WSW at 15 to 25 km/h.HumidityHumidity53%UV LevelUV IndexExtremeSun RiseSunrise06:00SunsetSunset19:02Mon 17 \n",
      " Night24Â°Scattered Showers NightRain32%WindWSW 14 km/hShowers late at night. Low 24ÂºC. Winds WSW at 10 to 15 km/h. Chance of rain 30%.HumidityHumidity76%UV LevelUV Index0 of 10Moon RiseMoonrise10:13Moon Phase - Day 5Waxing CrescentMoon SetMoonset23:49Tue 1835Â°/24Â°Partly CloudyPartly CloudyRain20%WindWSW 18 km/hArrow DownTue 18 \n",
      " Day35Â°Partly CloudyRain20%WindWSW 18 km/hPartly cloudy. High 35ÂºC. Winds WSW at 15 to 25 km/h.HumidityHumidity54%UV LevelUV IndexExtremeSun RiseSunrise05:59SunsetSunset19:02Tue 18 \n",
      " Night24Â°Mostly Clear NightRain6%WindWSW 14 km/hGenerally clear. Low 24ÂºC. Winds WSW at 10 to 15 km/h.HumidityHumidity76%UV LevelUV Index0 of 10Moon RiseMoonrise11:09Moon Phase - Day 6Waxing CrescentMoon SetMoonset--\n",
      "<class 'list'>\n"
     ]
    }
   ],
   "source": [
    "for aday in data[1:]:\n",
    "    print(aday)\n",
    "print(type(data))"
   ]
  },
  {
   "cell_type": "code",
   "execution_count": 16,
   "metadata": {},
   "outputs": [
    {
     "name": "stdout",
     "output_type": "stream",
     "text": [
      "31\n"
     ]
    }
   ],
   "source": [
    "print(len(data))"
   ]
  },
  {
   "cell_type": "code",
   "execution_count": 17,
   "metadata": {},
   "outputs": [
    {
     "name": "stdout",
     "output_type": "stream",
     "text": [
      "High Temp: 36°, Low Temp: 24°, Condition: n, Date: Tue 04\n",
      "High Temp: 38°, Low Temp: 25°, Condition: n, Date: Wed 05\n",
      "High Temp: 38°, Low Temp: 25°, Condition: n, Date: Thu 06\n",
      "High Temp: 36°, Low Temp: 25°, Condition: n, Date: Fri 07\n",
      "High Temp: 36°, Low Temp: 25°, Condition: n, Date: Sat 08\n",
      "High Temp: 37°, Low Temp: 24°, Condition: n, Date: Sun 09\n",
      "High Temp: 36°, Low Temp: 23°, Condition: n, Date: Mon 10\n",
      "High Temp: 36°, Low Temp: 23°, Condition: n, Date: Tue 11\n",
      "High Temp: 36°, Low Temp: 23°, Condition: n, Date: Wed 12\n",
      "High Temp: 36°, Low Temp: 23°, Condition: n, Date: Thu 13\n",
      "High Temp: 36°, Low Temp: 23°, Condition: n, Date: Fri 14\n",
      "High Temp: 35°, Low Temp: 24°, Condition: n, Date: Sat 15\n",
      "High Temp: 35°, Low Temp: 24°, Condition: n, Date: Sun 16\n",
      "High Temp: 35°, Low Temp: 24°, Condition: n, Date: Mon 17\n",
      "High Temp: 35°, Low Temp: 24°, Condition: n, Date: Tue 18\n"
     ]
    }
   ],
   "source": [
    "for aday in data:\n",
    "    extractor(aday)"
   ]
  },
  {
   "cell_type": "markdown",
   "metadata": {},
   "source": [
    "#### Selenium"
   ]
  },
  {
   "cell_type": "code",
   "execution_count": 18,
   "metadata": {},
   "outputs": [],
   "source": [
    "from selenium import webdriver\n",
    "from selenium.webdriver.common.by import By"
   ]
  },
  {
   "cell_type": "code",
   "execution_count": 19,
   "metadata": {},
   "outputs": [
    {
     "name": "stdout",
     "output_type": "stream",
     "text": [
      "Enter the characters you see below\n",
      "Sorry, we just need to make sure you're not a robot. For best results, please make sure your browser is accepting cookies.\n",
      "Type the characters you see in this image:\n",
      "Try different image\n",
      "Continue shopping\n",
      "Conditions of Use & Sale Privacy Notice\n",
      "© 1996-2015, Amazon.com, Inc. or its affiliates\n"
     ]
    }
   ],
   "source": [
    "driver = webdriver.Chrome()\n",
    "driver.get(\"https://www.amazon.in/gp/bestsellers/\")\n",
    "driver.implicitly_wait(10)\n",
    "product_price_data = driver.find_element(By.XPATH, '/html/body')\n",
    "print(product_price_data.text)\n",
    "\n",
    "driver.quit()"
   ]
  },
  {
   "cell_type": "markdown",
   "metadata": {},
   "source": [
    "#### Multithreading"
   ]
  },
  {
   "cell_type": "code",
   "execution_count": 1,
   "metadata": {},
   "outputs": [],
   "source": [
    "import threading\n",
    "import time"
   ]
  },
  {
   "cell_type": "code",
   "execution_count": 4,
   "metadata": {},
   "outputs": [],
   "source": [
    "def calc_square(lst):\n",
    "    print(\"Calculating Squares: \")\n",
    "    for ele in lst:\n",
    "        # cpu will be idle for 0.2 seconds\n",
    "        time.sleep(0.2)\n",
    "        print(f\"Square of {ele}: {ele ** 2}\")\n",
    "       \n",
    "list_of_nums = [2, 4, 6, 8, 10]\n",
    " \n",
    "def calc_cube(lst):\n",
    "    print(\"Calculating Cubes: \")\n",
    "    for ele in lst:\n",
    "        time.sleep(0.2)\n",
    "        print(f\"Cube of {ele}: {ele ** 2}\")"
   ]
  },
  {
   "cell_type": "code",
   "execution_count": 8,
   "metadata": {},
   "outputs": [],
   "source": [
    "def threader(proc1, proc2, target):\n",
    "    thread1 = threading.Thread(target=proc1, args=[target])\n",
    "    thread2 = threading.Thread(target=proc2, args=[target])\n",
    "    start_time = time.time()\n",
    "    thread1.start()\n",
    "    thread2. start()\n",
    "\n",
    "\n",
    "    thread1.join()\n",
    "    thread2.join()\n",
    "    end_time = time.time()\n",
    "    print(f\"Execution time: {end_time-start_time} secs\")\n",
    "    print('execution completed')"
   ]
  },
  {
   "cell_type": "markdown",
   "metadata": {},
   "source": [
    "#### Synchronization"
   ]
  },
  {
   "cell_type": "code",
   "execution_count": 9,
   "metadata": {},
   "outputs": [],
   "source": [
    "lock_instance = threading.Lock()"
   ]
  },
  {
   "cell_type": "code",
   "execution_count": 22,
   "metadata": {},
   "outputs": [],
   "source": [
    "def use_instance(lock, proc):\n",
    "    lock.acquire()\n",
    "    time.sleep(2)\n",
    "    print(f'resource is acquired for {proc}')\n",
    "\n",
    "def release_instance(lock, proc):\n",
    "    lock.release()\n",
    "    time.sleep(2)\n",
    "    print(f'resource is released for {proc}')"
   ]
  },
  {
   "cell_type": "code",
   "execution_count": 25,
   "metadata": {},
   "outputs": [],
   "source": [
    "list_of_nums = [2, 4, 6, 8, 10]\n",
    "\n",
    "def calc_square(lst):\n",
    "    print(\"Calculating Squares: \")\n",
    "    for ele in lst:\n",
    "        # cpu will be idle for 5 seconds\n",
    "        time.sleep(2)\n",
    "        use_instance(lock_instance, proc=\"calc_square\")\n",
    "        print(f\"Square of {ele}: {ele ** 2}\")\n",
    "        release_instance(lock_instance, proc=\"calc_square\")\n",
    "       \n",
    " \n",
    "def calc_cube(lst):\n",
    "    print(\"Calculating Cubes: \")\n",
    "    for ele in lst:\n",
    "        time.sleep(2.5)\n",
    "        use_instance(lock_instance, proc=\"calc_cube\")\n",
    "        print(f\"Cube of {ele}: {ele ** 3}\")\n",
    "        release_instance(lock_instance, proc=\"calc_cube\")"
   ]
  },
  {
   "cell_type": "code",
   "execution_count": 26,
   "metadata": {},
   "outputs": [
    {
     "name": "stdout",
     "output_type": "stream",
     "text": [
      "Calculating Squares: \n",
      "Calculating Cubes: \n",
      "resource is acquired for calc_square\n",
      "Square of 2: 4\n",
      "resource is released for calc_squareresource is acquired for calc_cube\n",
      "Cube of 2: 8\n",
      "\n",
      "resource is released for calc_cube\n",
      "resource is acquired for calc_square\n",
      "Square of 4: 16\n",
      "resource is released for calc_square\n",
      "resource is acquired for calc_cube\n",
      "Cube of 4: 64\n",
      "resource is released for calc_cube\n",
      "resource is acquired for calc_square\n",
      "Square of 6: 36\n",
      "resource is released for calc_square\n",
      "resource is acquired for calc_cube\n",
      "Cube of 6: 216\n",
      "resource is released for calc_cube\n",
      "resource is acquired for calc_square\n",
      "Square of 8: 64\n",
      "resource is released for calc_square\n",
      "resource is acquired for calc_cube\n",
      "Cube of 8: 512\n",
      "resource is released for calc_cube\n",
      "resource is acquired for calc_square\n",
      "Square of 10: 100\n",
      "resource is released for calc_square\n",
      "resource is acquired for calc_cube\n",
      "Cube of 10: 1000\n",
      "resource is released for calc_cube\n",
      "Execution time: 34.04260325431824 secs\n",
      "execution completed\n"
     ]
    }
   ],
   "source": [
    "threader(calc_square, calc_cube, list_of_nums)"
   ]
  },
  {
   "cell_type": "code",
   "execution_count": 32,
   "metadata": {},
   "outputs": [
    {
     "name": "stdout",
     "output_type": "stream",
     "text": [
      "Day: Wed, Jan 29, High: 31°, Low: 18°\n"
     ]
    }
   ],
   "source": [
    "from selenium import webdriver\n",
    "from selenium.webdriver.chrome.service import Service\n",
    "from selenium.webdriver.common.by import By\n",
    "from bs4 import BeautifulSoup\n",
    "import time\n",
    "import re\n",
    "# Set up the Selenium WebDriver (make sure to specify the path to your ChromeDriver)\n",
    "# service = Service(\"path_to_chromedriver\")  \n",
    "driver = webdriver.Chrome()\n",
    "\n",
    "# Open the website\n",
    "url = \"https://www.accuweather.com/en/in/mumbai/204842/weather-forecast/204842\"\n",
    "driver.get(url)\n",
    "\n",
    "# Allow page to load\n",
    "time.sleep(5)\n",
    "\n",
    "# Get page source\n",
    "page_source = driver.page_source\n",
    "\n",
    "# Use BeautifulSoup to parse the HTML\n",
    "soup = BeautifulSoup(page_source, 'html.parser')\n",
    "\n",
    "# Find the forecast container\n",
    "forecast_card = soup.find('div', class_='today-forecast-card content-module')\n",
    "\n",
    "if forecast_card:\n",
    "    # Extract the day\n",
    "    day = forecast_card.find('div', class_='card-header spaced-content').find('p').text.strip()\n",
    "    \n",
    "    # Extract high and low temperatures\n",
    "    body_items = forecast_card.find('div', class_='body').find_all('div', class_='body-item')\n",
    "    \n",
    "    high_temp_raw = body_items[0].find('p').text.strip()\n",
    "    low_temp_raw = body_items[1].find('p').text.strip()\n",
    "\n",
    "    high_temp = re.search(r'(\\d+°)', high_temp_raw)\n",
    "    low_temp = re.search(r'(\\d+°)', low_temp_raw)\n",
    "\n",
    "    high_temp = high_temp.group(1) if high_temp else \"N/A\"\n",
    "    low_temp = low_temp.group(1) if low_temp else \"N/A\"\n",
    "    print(f\"Day: {day}, High: {high_temp}, Low: {low_temp}\")\n",
    "\n",
    "else:\n",
    "    print(\"Weather data not found!\")\n",
    "\n",
    "# Close the driver\n",
    "driver.quit()\n"
   ]
  },
  {
   "cell_type": "code",
   "execution_count": null,
   "metadata": {},
   "outputs": [],
   "source": []
  }
 ],
 "metadata": {
  "kernelspec": {
   "display_name": "venv",
   "language": "python",
   "name": "python3"
  },
  "language_info": {
   "codemirror_mode": {
    "name": "ipython",
    "version": 3
   },
   "file_extension": ".py",
   "mimetype": "text/x-python",
   "name": "python",
   "nbconvert_exporter": "python",
   "pygments_lexer": "ipython3",
   "version": "3.13.1"
  }
 },
 "nbformat": 4,
 "nbformat_minor": 2
}

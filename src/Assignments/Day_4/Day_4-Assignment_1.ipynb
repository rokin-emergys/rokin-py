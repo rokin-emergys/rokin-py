{
 "cells": [
  {
   "cell_type": "markdown",
   "metadata": {},
   "source": [
    "### Day-4 Assignment 1 – (Json, File handling, Directories, Paths, Matplotlib, Seaborn)"
   ]
  },
  {
   "cell_type": "markdown",
   "metadata": {},
   "source": [
    "#### Question 1. Load the (states.json) data from the JSON file into a Python data structure."
   ]
  },
  {
   "cell_type": "code",
   "execution_count": 3,
   "metadata": {},
   "outputs": [],
   "source": [
    "import json"
   ]
  },
  {
   "cell_type": "code",
   "execution_count": 4,
   "metadata": {},
   "outputs": [
    {
     "data": {
      "text/plain": [
       "{'states': [{'name': 'Alabama',\n",
       "   'abbreviation': 'AL',\n",
       "   'area_codes': ['205', '251', '256', '334', '938']},\n",
       "  {'name': 'Alaska', 'abbreviation': 'AK', 'area_codes': ['907']},\n",
       "  {'name': 'Arizona',\n",
       "   'abbreviation': 'AZ',\n",
       "   'area_codes': ['480', '520', '602', '623', '928']},\n",
       "  {'name': 'Arkansas',\n",
       "   'abbreviation': 'AR',\n",
       "   'area_codes': ['479', '501', '870']},\n",
       "  {'name': 'California',\n",
       "   'abbreviation': 'CA',\n",
       "   'area_codes': ['209',\n",
       "    '213',\n",
       "    '310',\n",
       "    '323',\n",
       "    '408',\n",
       "    '415',\n",
       "    '424',\n",
       "    '442',\n",
       "    '510',\n",
       "    '530',\n",
       "    '559',\n",
       "    '562',\n",
       "    '619',\n",
       "    '626',\n",
       "    '628',\n",
       "    '650',\n",
       "    '657',\n",
       "    '661',\n",
       "    '669',\n",
       "    '707',\n",
       "    '714',\n",
       "    '747',\n",
       "    '760',\n",
       "    '805',\n",
       "    '818',\n",
       "    '831',\n",
       "    '858',\n",
       "    '909',\n",
       "    '916',\n",
       "    '925',\n",
       "    '949',\n",
       "    '951']},\n",
       "  {'name': 'Colorado',\n",
       "   'abbreviation': 'CO',\n",
       "   'area_codes': ['303', '719', '720', '970']},\n",
       "  {'name': 'Connecticut',\n",
       "   'abbreviation': 'CT',\n",
       "   'area_codes': ['203', '475', '860', '959']},\n",
       "  {'name': 'Delaware', 'abbreviation': 'DE', 'area_codes': ['302']},\n",
       "  {'name': 'Florida',\n",
       "   'abbreviation': 'FL',\n",
       "   'area_codes': ['239',\n",
       "    '305',\n",
       "    '321',\n",
       "    '352',\n",
       "    '386',\n",
       "    '407',\n",
       "    '561',\n",
       "    '727',\n",
       "    '754',\n",
       "    '772',\n",
       "    '786',\n",
       "    '813',\n",
       "    '850',\n",
       "    '863',\n",
       "    '904',\n",
       "    '941',\n",
       "    '954']},\n",
       "  {'name': 'Georgia',\n",
       "   'abbreviation': 'GA',\n",
       "   'area_codes': ['229',\n",
       "    '404',\n",
       "    '470',\n",
       "    '478',\n",
       "    '678',\n",
       "    '706',\n",
       "    '762',\n",
       "    '770',\n",
       "    '912']},\n",
       "  {'name': 'Hawaii', 'abbreviation': 'HI', 'area_codes': ['808']},\n",
       "  {'name': 'Idaho', 'abbreviation': 'ID', 'area_codes': ['208']},\n",
       "  {'name': 'Illinois',\n",
       "   'abbreviation': 'IL',\n",
       "   'area_codes': ['217',\n",
       "    '224',\n",
       "    '309',\n",
       "    '312',\n",
       "    '331',\n",
       "    '618',\n",
       "    '630',\n",
       "    '708',\n",
       "    '773',\n",
       "    '779',\n",
       "    '815',\n",
       "    '847',\n",
       "    '872']},\n",
       "  {'name': 'Indiana',\n",
       "   'abbreviation': 'IN',\n",
       "   'area_codes': ['219', '260', '317', '463', '574', '765', '812', '930']},\n",
       "  {'name': 'Iowa',\n",
       "   'abbreviation': 'IA',\n",
       "   'area_codes': ['319', '515', '563', '641', '712']},\n",
       "  {'name': 'Kansas',\n",
       "   'abbreviation': 'KS',\n",
       "   'area_codes': ['316', '620', '785', '913']},\n",
       "  {'name': 'Kentucky',\n",
       "   'abbreviation': 'KY',\n",
       "   'area_codes': ['270', '364', '502', '606', '859']},\n",
       "  {'name': 'Louisiana',\n",
       "   'abbreviation': 'LA',\n",
       "   'area_codes': ['225', '318', '337', '504', '985']},\n",
       "  {'name': 'Maine', 'abbreviation': 'ME', 'area_codes': ['207']},\n",
       "  {'name': 'Maryland',\n",
       "   'abbreviation': 'MD',\n",
       "   'area_codes': ['240', '301', '410', '443', '667']},\n",
       "  {'name': 'Massachusetts',\n",
       "   'abbreviation': 'MA',\n",
       "   'area_codes': ['339',\n",
       "    '351',\n",
       "    '413',\n",
       "    '508',\n",
       "    '617',\n",
       "    '774',\n",
       "    '781',\n",
       "    '857',\n",
       "    '978']},\n",
       "  {'name': 'Michigan',\n",
       "   'abbreviation': 'MI',\n",
       "   'area_codes': ['231',\n",
       "    '248',\n",
       "    '269',\n",
       "    '313',\n",
       "    '517',\n",
       "    '586',\n",
       "    '616',\n",
       "    '734',\n",
       "    '810',\n",
       "    '906',\n",
       "    '947',\n",
       "    '989']},\n",
       "  {'name': 'Minnesota',\n",
       "   'abbreviation': 'MN',\n",
       "   'area_codes': ['218', '320', '507', '612', '651', '763', '952']},\n",
       "  {'name': 'Mississippi',\n",
       "   'abbreviation': 'MS',\n",
       "   'area_codes': ['228', '601', '662', '769']},\n",
       "  {'name': 'Missouri',\n",
       "   'abbreviation': 'MO',\n",
       "   'area_codes': ['314', '417', '573', '636', '660', '816']},\n",
       "  {'name': 'Montana', 'abbreviation': 'MT', 'area_codes': ['406']},\n",
       "  {'name': 'Nebraska',\n",
       "   'abbreviation': 'NE',\n",
       "   'area_codes': ['308', '402', '531']},\n",
       "  {'name': 'Nevada',\n",
       "   'abbreviation': 'NV',\n",
       "   'area_codes': ['702', '725', '775']},\n",
       "  {'name': 'New Hampshire', 'abbreviation': 'NH', 'area_codes': ['603']},\n",
       "  {'name': 'New Jersey',\n",
       "   'abbreviation': 'NJ',\n",
       "   'area_codes': ['201',\n",
       "    '551',\n",
       "    '609',\n",
       "    '732',\n",
       "    '848',\n",
       "    '856',\n",
       "    '862',\n",
       "    '908',\n",
       "    '973']},\n",
       "  {'name': 'New Mexico', 'abbreviation': 'NM', 'area_codes': ['505', '575']},\n",
       "  {'name': 'New York',\n",
       "   'abbreviation': 'NY',\n",
       "   'area_codes': ['212',\n",
       "    '315',\n",
       "    '332',\n",
       "    '347',\n",
       "    '516',\n",
       "    '518',\n",
       "    '585',\n",
       "    '607',\n",
       "    '631',\n",
       "    '646',\n",
       "    '680',\n",
       "    '716',\n",
       "    '718',\n",
       "    '845',\n",
       "    '914',\n",
       "    '917',\n",
       "    '929',\n",
       "    '934']},\n",
       "  {'name': 'North Carolina',\n",
       "   'abbreviation': 'NC',\n",
       "   'area_codes': ['252',\n",
       "    '336',\n",
       "    '704',\n",
       "    '743',\n",
       "    '828',\n",
       "    '910',\n",
       "    '919',\n",
       "    '980',\n",
       "    '984']},\n",
       "  {'name': 'North Dakota', 'abbreviation': 'ND', 'area_codes': ['701']},\n",
       "  {'name': 'Ohio',\n",
       "   'abbreviation': 'OH',\n",
       "   'area_codes': ['216',\n",
       "    '220',\n",
       "    '234',\n",
       "    '330',\n",
       "    '380',\n",
       "    '419',\n",
       "    '440',\n",
       "    '513',\n",
       "    '567',\n",
       "    '614',\n",
       "    '740',\n",
       "    '937']},\n",
       "  {'name': 'Oklahoma',\n",
       "   'abbreviation': 'OK',\n",
       "   'area_codes': ['405', '539', '580', '918']},\n",
       "  {'name': 'Oregon',\n",
       "   'abbreviation': 'OR',\n",
       "   'area_codes': ['458', '503', '541', '971']},\n",
       "  {'name': 'Pennsylvania',\n",
       "   'abbreviation': 'PA',\n",
       "   'area_codes': ['215',\n",
       "    '267',\n",
       "    '272',\n",
       "    '412',\n",
       "    '484',\n",
       "    '570',\n",
       "    '610',\n",
       "    '717',\n",
       "    '724',\n",
       "    '814',\n",
       "    '878']},\n",
       "  {'name': 'Rhode Island', 'abbreviation': 'RI', 'area_codes': ['401']},\n",
       "  {'name': 'South Carolina',\n",
       "   'abbreviation': 'SC',\n",
       "   'area_codes': ['803', '843', '854', '864']},\n",
       "  {'name': 'South Dakota', 'abbreviation': 'SD', 'area_codes': ['605']},\n",
       "  {'name': 'Tennessee',\n",
       "   'abbreviation': 'TN',\n",
       "   'area_codes': ['423', '615', '629', '731', '865', '901', '931']},\n",
       "  {'name': 'Texas',\n",
       "   'abbreviation': 'TX',\n",
       "   'area_codes': ['210',\n",
       "    '214',\n",
       "    '254',\n",
       "    '281',\n",
       "    '325',\n",
       "    '346',\n",
       "    '361',\n",
       "    '409',\n",
       "    '430',\n",
       "    '432',\n",
       "    '469',\n",
       "    '512',\n",
       "    '682',\n",
       "    '713',\n",
       "    '737',\n",
       "    '806',\n",
       "    '817',\n",
       "    '830',\n",
       "    '832',\n",
       "    '903',\n",
       "    '915',\n",
       "    '936',\n",
       "    '940',\n",
       "    '956',\n",
       "    '972',\n",
       "    '979']},\n",
       "  {'name': 'Utah', 'abbreviation': 'UT', 'area_codes': ['385', '435', '801']},\n",
       "  {'name': 'Vermont', 'abbreviation': 'VT', 'area_codes': ['802']},\n",
       "  {'name': 'Virginia',\n",
       "   'abbreviation': 'VA',\n",
       "   'area_codes': ['276', '434', '540', '571', '703', '757', '804']},\n",
       "  {'name': 'Washington',\n",
       "   'abbreviation': 'WA',\n",
       "   'area_codes': ['206', '253', '360', '425', '509']},\n",
       "  {'name': 'West Virginia',\n",
       "   'abbreviation': 'WV',\n",
       "   'area_codes': ['304', '681']},\n",
       "  {'name': 'Wisconsin',\n",
       "   'abbreviation': 'WI',\n",
       "   'area_codes': ['262', '414', '534', '608', '715', '920']},\n",
       "  {'name': 'Wyoming', 'abbreviation': 'WY', 'area_codes': ['307']}]}"
      ]
     },
     "execution_count": 4,
     "metadata": {},
     "output_type": "execute_result"
    }
   ],
   "source": [
    "# 1. Load the states.json data\n",
    "with open('states.json', 'r') as file:\n",
    "    states_data = json.load(file)\n",
    "states_data"
   ]
  },
  {
   "cell_type": "code",
   "execution_count": 5,
   "metadata": {},
   "outputs": [
    {
     "name": "stdout",
     "output_type": "stream",
     "text": [
      "['Alabama', 'Arizona', 'Arkansas', 'California', 'Colorado', 'Connecticut', 'Florida', 'Georgia', 'Illinois', 'Indiana', 'Iowa', 'Kansas', 'Kentucky', 'Louisiana', 'Maryland', 'Massachusetts', 'Michigan', 'Minnesota', 'Mississippi', 'Missouri', 'Nebraska', 'Nevada', 'New Jersey', 'New Mexico', 'New York', 'North Carolina', 'Ohio', 'Oklahoma', 'Oregon', 'Pennsylvania', 'South Carolina', 'Tennessee', 'Texas', 'Utah', 'Virginia', 'Washington', 'West Virginia', 'Wisconsin']\n"
     ]
    }
   ],
   "source": [
    "# 2. Extract the names of all states with multiple area codes\n",
    "states = states_data['states']\n",
    "multiple_code_states = [\n",
    "    state['name'] for state in states if len(state['area_codes']) > 1\n",
    "]\n",
    "print(multiple_code_states)"
   ]
  },
  {
   "cell_type": "code",
   "execution_count": 8,
   "metadata": {},
   "outputs": [
    {
     "name": "stdout",
     "output_type": "stream",
     "text": [
      "{'Alabama': 5, 'Alaska': 1, 'Arizona': 5, 'Arkansas': 3, 'California': 32, 'Colorado': 4, 'Connecticut': 4, 'Delaware': 1, 'Florida': 17, 'Georgia': 9, 'Hawaii': 1, 'Idaho': 1, 'Illinois': 13, 'Indiana': 8, 'Iowa': 5, 'Kansas': 4, 'Kentucky': 5, 'Louisiana': 5, 'Maine': 1, 'Maryland': 5, 'Massachusetts': 9, 'Michigan': 12, 'Minnesota': 7, 'Mississippi': 4, 'Missouri': 6, 'Montana': 1, 'Nebraska': 3, 'Nevada': 3, 'New Hampshire': 1, 'New Jersey': 9, 'New Mexico': 2, 'New York': 18, 'North Carolina': 9, 'North Dakota': 1, 'Ohio': 12, 'Oklahoma': 4, 'Oregon': 4, 'Pennsylvania': 11, 'Rhode Island': 1, 'South Carolina': 4, 'South Dakota': 1, 'Tennessee': 7, 'Texas': 26, 'Utah': 3, 'Vermont': 1, 'Virginia': 7, 'Washington': 5, 'West Virginia': 2, 'Wisconsin': 6, 'Wyoming': 1}\n"
     ]
    }
   ],
   "source": [
    "# 3. Calculate the total number of area codes for each state and store in a dictionary\n",
    "state_acode_cnt = {\n",
    "    state['name']: len(state['area_codes']) for state in states\n",
    "}\n",
    "print(state_acode_cnt)"
   ]
  },
  {
   "cell_type": "code",
   "execution_count": 25,
   "metadata": {},
   "outputs": [
    {
     "data": {
      "text/plain": [
       "32"
      ]
     },
     "execution_count": 25,
     "metadata": {},
     "output_type": "execute_result"
    }
   ],
   "source": [
    "# 4. Identify the state with the highest number of area codes\n",
    "max_state = max(state_acode_cnt, key=state_acode_cnt.get)\n",
    "max_area_codes = state_acode_cnt[max_state]\n",
    "max_area_codes"
   ]
  },
  {
   "cell_type": "code",
   "execution_count": 21,
   "metadata": {},
   "outputs": [
    {
     "name": "stdout",
     "output_type": "stream",
     "text": [
      "\n",
      "Sorted JSON data:\n",
      "{\n",
      "    \"Alabama\": 5,\n",
      "    \"Alaska\": 1,\n",
      "    \"Arizona\": 5,\n",
      "    \"Arkansas\": 3,\n",
      "    \"California\": 32,\n",
      "    \"Colorado\": 4,\n",
      "    \"Connecticut\": 4,\n",
      "    \"Delaware\": 1,\n",
      "    \"Florida\": 17,\n",
      "    \"Georgia\": 9,\n",
      "    \"Hawaii\": 1,\n",
      "    \"Idaho\": 1,\n",
      "    \"Illinois\": 13,\n",
      "    \"Indiana\": 8,\n",
      "    \"Iowa\": 5,\n",
      "    \"Kansas\": 4,\n",
      "    \"Kentucky\": 5,\n",
      "    \"Louisiana\": 5,\n",
      "    \"Maine\": 1,\n",
      "    \"Maryland\": 5,\n",
      "    \"Massachusetts\": 9,\n",
      "    \"Michigan\": 12,\n",
      "    \"Minnesota\": 7,\n",
      "    \"Mississippi\": 4,\n",
      "    \"Missouri\": 6,\n",
      "    \"Montana\": 1,\n",
      "    \"Nebraska\": 3,\n",
      "    \"Nevada\": 3,\n",
      "    \"New Hampshire\": 1,\n",
      "    \"New Jersey\": 9,\n",
      "    \"New Mexico\": 2,\n",
      "    \"New York\": 18,\n",
      "    \"North Carolina\": 9,\n",
      "    \"North Dakota\": 1,\n",
      "    \"Ohio\": 12,\n",
      "    \"Oklahoma\": 4,\n",
      "    \"Oregon\": 4,\n",
      "    \"Pennsylvania\": 11,\n",
      "    \"Rhode Island\": 1,\n",
      "    \"South Carolina\": 4,\n",
      "    \"South Dakota\": 1,\n",
      "    \"Tennessee\": 7,\n",
      "    \"Texas\": 26,\n",
      "    \"Utah\": 3,\n",
      "    \"Vermont\": 1,\n",
      "    \"Virginia\": 7,\n",
      "    \"Washington\": 5,\n",
      "    \"West Virginia\": 2,\n",
      "    \"Wisconsin\": 6,\n",
      "    \"Wyoming\": 1\n",
      "}\n"
     ]
    }
   ],
   "source": [
    "# 5. Convert Python dictionary to JSON (sorted by key) and print with indent level 4\n",
    "sorted_json_data = json.dumps(state_acode_cnt, indent=4, sort_keys=True)\n",
    "print(\"\\nSorted JSON data:\")\n",
    "print(sorted_json_data)"
   ]
  },
  {
   "cell_type": "code",
   "execution_count": 15,
   "metadata": {},
   "outputs": [
    {
     "name": "stdout",
     "output_type": "stream",
     "text": [
      "States with multiple area codes: ['Alabama', 'Arizona', 'Arkansas', 'California', 'Colorado', 'Connecticut', 'Florida', 'Georgia', 'Illinois', 'Indiana', 'Iowa', 'Kansas', 'Kentucky', 'Louisiana', 'Maryland', 'Massachusetts', 'Michigan', 'Minnesota', 'Mississippi', 'Missouri', 'Nebraska', 'Nevada', 'New Jersey', 'New Mexico', 'New York', 'North Carolina', 'Ohio', 'Oklahoma', 'Oregon', 'Pennsylvania', 'South Carolina', 'Tennessee', 'Texas', 'Utah', 'Virginia', 'Washington', 'West Virginia', 'Wisconsin']\n",
      "\n",
      "Total number of area codes per state: {'Alabama': 5, 'Alaska': 1, 'Arizona': 5, 'Arkansas': 3, 'California': 32, 'Colorado': 4, 'Connecticut': 4, 'Delaware': 1, 'Florida': 17, 'Georgia': 9, 'Hawaii': 1, 'Idaho': 1, 'Illinois': 13, 'Indiana': 8, 'Iowa': 5, 'Kansas': 4, 'Kentucky': 5, 'Louisiana': 5, 'Maine': 1, 'Maryland': 5, 'Massachusetts': 9, 'Michigan': 12, 'Minnesota': 7, 'Mississippi': 4, 'Missouri': 6, 'Montana': 1, 'Nebraska': 3, 'Nevada': 3, 'New Hampshire': 1, 'New Jersey': 9, 'New Mexico': 2, 'New York': 18, 'North Carolina': 9, 'North Dakota': 1, 'Ohio': 12, 'Oklahoma': 4, 'Oregon': 4, 'Pennsylvania': 11, 'Rhode Island': 1, 'South Carolina': 4, 'South Dakota': 1, 'Tennessee': 7, 'Texas': 26, 'Utah': 3, 'Vermont': 1, 'Virginia': 7, 'Washington': 5, 'West Virginia': 2, 'Wisconsin': 6, 'Wyoming': 1}\n",
      "\n",
      "\n",
      "State with the highest number of area codes: California (32 area codes)\n"
     ]
    }
   ],
   "source": [
    "print(f\"States with multiple area codes: {multiple_code_states}\\n\")\n",
    "print(f\"Total number of area codes per state: {state_acode_cnt}\\n\")\n",
    "print(f\"\\nState with the highest number of area codes: {max_state} ({max_area_codes} area codes)\")"
   ]
  },
  {
   "cell_type": "markdown",
   "metadata": {},
   "source": [
    "#### Q2 Write a Python program to convert Python dictionary object (sort by key) to JSON data. Print the object members with indent level 4.\n"
   ]
  },
  {
   "cell_type": "code",
   "execution_count": 16,
   "metadata": {},
   "outputs": [
    {
     "name": "stdout",
     "output_type": "stream",
     "text": [
      "{\n",
      "    \"age\": 25,\n",
      "    \"city\": \"New York\",\n",
      "    \"email\": \"alice@example.com\",\n",
      "    \"name\": \"Alice\"\n",
      "}\n"
     ]
    }
   ],
   "source": [
    "# Sample dictionary\n",
    "data = {\n",
    "    \"name\": \"Alice\",\n",
    "    \"age\": 25,\n",
    "    \"city\": \"New York\",\n",
    "    \"email\": \"alice@example.com\"\n",
    "}\n",
    "\n",
    "# Convert dictionary to JSON (sorted by key, with indentation)\n",
    "json_data = json.dumps(data, indent=4, sort_keys=True)\n",
    "\n",
    "# Print JSON output\n",
    "print(json_data)"
   ]
  },
  {
   "cell_type": "markdown",
   "metadata": {},
   "source": [
    "#### Q4\n",
    "Load following dataset into pandas: https://raw.githubusercontent.com/pandas\u0002dev/pandas/master/doc/data/titanic.csv\n",
    "1. Check how data is distributed for numerical columns.\n",
    "2. Check correlation of Fare with other columns. Find most influencing \n",
    "column.\n",
    "3. Find outliers in ticket fare column\n",
    "4. Plot the survival rate based on passenger class.\n",
    "5. Analyze the survival rate based on age groups.\n"
   ]
  },
  {
   "cell_type": "code",
   "execution_count": 17,
   "metadata": {},
   "outputs": [],
   "source": [
    "import pandas as pd\n",
    "import seaborn as sns\n",
    "import matplotlib.pyplot as plt"
   ]
  },
  {
   "cell_type": "code",
   "execution_count": 18,
   "metadata": {},
   "outputs": [],
   "source": [
    "url = \"https://raw.githubusercontent.com/pandas-dev/pandas/master/doc/data/titanic.csv\"\n",
    "df = pd.read_csv(url)"
   ]
  },
  {
   "cell_type": "code",
   "execution_count": 19,
   "metadata": {},
   "outputs": [
    {
     "name": "stdout",
     "output_type": "stream",
     "text": [
      "Distribution of Numerical Columns:\n",
      "\n",
      "       PassengerId    Survived      Pclass         Age       SibSp  \\\n",
      "count   891.000000  891.000000  891.000000  714.000000  891.000000   \n",
      "mean    446.000000    0.383838    2.308642   29.699118    0.523008   \n",
      "std     257.353842    0.486592    0.836071   14.526497    1.102743   \n",
      "min       1.000000    0.000000    1.000000    0.420000    0.000000   \n",
      "25%     223.500000    0.000000    2.000000   20.125000    0.000000   \n",
      "50%     446.000000    0.000000    3.000000   28.000000    0.000000   \n",
      "75%     668.500000    1.000000    3.000000   38.000000    1.000000   \n",
      "max     891.000000    1.000000    3.000000   80.000000    8.000000   \n",
      "\n",
      "            Parch        Fare  \n",
      "count  891.000000  891.000000  \n",
      "mean     0.381594   32.204208  \n",
      "std      0.806057   49.693429  \n",
      "min      0.000000    0.000000  \n",
      "25%      0.000000    7.910400  \n",
      "50%      0.000000   14.454200  \n",
      "75%      0.000000   31.000000  \n",
      "max      6.000000  512.329200  \n"
     ]
    }
   ],
   "source": [
    "print(\"Distribution of Numerical Columns:\\n\")\n",
    "print(df.describe())"
   ]
  },
  {
   "cell_type": "code",
   "execution_count": 22,
   "metadata": {},
   "outputs": [
    {
     "name": "stdout",
     "output_type": "stream",
     "text": [
      "\n",
      "Correlation of 'Fare' with other columns:\n",
      " Fare           1.000000\n",
      "Survived       0.257307\n",
      "Parch          0.216225\n",
      "SibSp          0.159651\n",
      "Age            0.096067\n",
      "PassengerId    0.012658\n",
      "Pclass        -0.549500\n",
      "Name: Fare, dtype: float64\n",
      "\n",
      "Most Influencing Column for Fare: Survived\n"
     ]
    }
   ],
   "source": [
    "# Compute correlation, considering only numeric columns\n",
    "correlation = df.corr(numeric_only=True)[\"Fare\"].sort_values(ascending=False)\n",
    "\n",
    "# Display correlation values\n",
    "print(\"\\nCorrelation of 'Fare' with other columns:\\n\", correlation)\n",
    "\n",
    "# Find most influencing column (excluding 'Fare' itself)\n",
    "most_influential = correlation.index[1]\n",
    "print(\"\\nMost Influencing Column for Fare:\", most_influential)"
   ]
  },
  {
   "cell_type": "code",
   "execution_count": 23,
   "metadata": {},
   "outputs": [
    {
     "data": {
      "image/png": "[encoded data removed]",
      "text/plain": [
       "<Figure size 800x500 with 1 Axes>"
      ]
     },
     "metadata": {},
     "output_type": "display_data"
    }
   ],
   "source": [
    "plt.figure(figsize=(8, 5))\n",
    "sns.boxplot(x=df[\"Fare\"])\n",
    "plt.title(\"Outliers in Ticket Fare\")\n",
    "plt.show()"
   ]
  },
  {
   "cell_type": "code",
   "execution_count": 24,
   "metadata": {},
   "outputs": [
    {
     "data": {
      "image/png": "[encoded data removed]",
      "text/plain": [
       "<Figure size 800x500 with 1 Axes>"
      ]
     },
     "metadata": {},
     "output_type": "display_data"
    }
   ],
   "source": [
    "plt.figure(figsize=(8, 5))\n",
    "sns.barplot(x=\"Pclass\", y=\"Survived\", data=df)\n",
    "plt.title(\"Survival Rate by Passenger Class\")\n",
    "plt.xlabel(\"Passenger Class\")\n",
    "plt.ylabel(\"Survival Rate\")\n",
    "plt.show()"
   ]
  },
  {
   "cell_type": "markdown",
   "metadata": {},
   "source": [
    "* Q3 user_management -> `user_management_app.py` \n",
    "* Q4 vehicle_dashboard -> `vehicle_dashboard_app.py`"
   ]
  }
 ],
 "metadata": {
  "kernelspec": {
   "display_name": "venv",
   "language": "python",
   "name": "python3"
  },
  "language_info": {
   "codemirror_mode": {
    "name": "ipython",
    "version": 3
   },
   "file_extension": ".py",
   "mimetype": "text/x-python",
   "name": "python",
   "nbconvert_exporter": "python",
   "pygments_lexer": "ipython3",
   "version": "3.13.1"
  }
 },
 "nbformat": 4,
 "nbformat_minor": 2
}
